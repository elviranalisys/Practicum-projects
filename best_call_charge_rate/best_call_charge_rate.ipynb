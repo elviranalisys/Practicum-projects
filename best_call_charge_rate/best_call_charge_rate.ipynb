{
 "cells": [
  {
   "cell_type": "markdown",
   "metadata": {},
   "source": [
    "<h1>Содержание<span class=\"tocSkip\"></span></h1>\n",
    "<div class=\"toc\"><ul class=\"toc-item\"><li><span><a href=\"#Изучение-данных-из-файла\" data-toc-modified-id=\"Изучение-данных-из-файла-1\"><span class=\"toc-item-num\">1&nbsp;&nbsp;</span>Изучение данных из файла</a></span><ul class=\"toc-item\"><li><span><a href=\"#Вывод\" data-toc-modified-id=\"Вывод-1.1\"><span class=\"toc-item-num\">1.1&nbsp;&nbsp;</span>Вывод</a></span></li></ul></li><li><span><a href=\"#Предобработка-данных\" data-toc-modified-id=\"Предобработка-данных-2\"><span class=\"toc-item-num\">2&nbsp;&nbsp;</span>Предобработка данных</a></span></li><li><span><a href=\"#Расчёты-и-добавление-результатов-в-таблицу\" data-toc-modified-id=\"Расчёты-и-добавление-результатов-в-таблицу-3\"><span class=\"toc-item-num\">3&nbsp;&nbsp;</span>Расчёты и добавление результатов в таблицу</a></span></li><li><span><a href=\"#Исследовательский-анализ-данных\" data-toc-modified-id=\"Исследовательский-анализ-данных-4\"><span class=\"toc-item-num\">4&nbsp;&nbsp;</span>Исследовательский анализ данных</a></span></li><li><span><a href=\"#Проверка-гипотез\" data-toc-modified-id=\"Проверка-гипотез-5\"><span class=\"toc-item-num\">5&nbsp;&nbsp;</span>Проверка гипотез</a></span></li><li><span><a href=\"#Общий-вывод\" data-toc-modified-id=\"Общий-вывод-6\"><span class=\"toc-item-num\">6&nbsp;&nbsp;</span>Общий вывод</a></span></li></ul></div>"
   ]
  },
  {
   "cell_type": "markdown",
   "metadata": {},
   "source": [
    "# Определение перспективного тарифа для телеком-компании"
   ]
  },
  {
   "cell_type": "markdown",
   "metadata": {},
   "source": [
    "Клиентам «Мегалайн» предлагают два тарифных плана: «Смарт» и «Ультра». Чтобы скорректировать рекламный бюджет, коммерческий департамент хочет понять, какой тариф приносит больше денег.\n",
    "Вам предстоит сделать предварительный анализ тарифов на небольшой выборке клиентов. В вашем распоряжении данные 500 пользователей «Мегалайна»: кто они, откуда, каким тарифом пользуются, сколько звонков и сообщений каждый отправил за 2018 год. Нужно проанализировать поведение клиентов и сделать вывод — какой тариф лучше.\n",
    "Описание тарифов\n",
    "* Тариф «Смарт»\n",
    "- Ежемесячная плата: 550 рублей\n",
    "- Включено 500 минут разговора, 50 сообщений и 15 Гб интернет-трафика\n",
    "- Стоимость услуг сверх тарифного пакета:\n",
    "- минута разговора: 3 рубля\n",
    "- сообщение: 3 рубля\n",
    "- 1 Гб интернет-трафика: 200 рублей\n",
    "* Тариф «Ультра»\n",
    "- Ежемесячная плата: 1950 рублей\n",
    "- Включено 3000 минут разговора, 1000 сообщений и 30 Гб интернет-трафика\n",
    "- Стоимость услуг сверх тарифного пакета:\n",
    "- минута разговора: 1 рубль\n",
    "- сообщение: 1 рубль\n",
    "- 1 Гб интернет-трафика: 150 рублей\n",
    "\n",
    "Примечание\n",
    "«Мегалайн» всегда округляет секунды до минут, а мегабайты — до гигабайт. Каждый звонок округляется отдельно: даже если он длился всего 1 секунду, будет засчитан как 1 минута.\n",
    "Для веб-трафика отдельные сессии не считаются. Вместо этого общая сумма за месяц округляется в бо́льшую сторону. Если абонент использует 1025 мегабайт в этом месяце, с него возьмут плату за 2 гигабайта. Примите, что неиспользованные за предыдущий месяц звонки, смс, интернет на следующий месяц не переносятся."
   ]
  },
  {
   "cell_type": "markdown",
   "metadata": {},
   "source": [
    "## Изучение данных из файла"
   ]
  },
  {
   "cell_type": "markdown",
   "metadata": {},
   "source": [
    "### Таблица Calls"
   ]
  },
  {
   "cell_type": "markdown",
   "metadata": {},
   "source": [
    "Сначала рассмотрим каждый датасет.\n",
    "Таблица calls (информация о звонках):\n",
    "- id — уникальный номер звонка\n",
    "- call_date — дата звонка\n",
    "- duration — длительность звонка в минутах\n",
    "- user_id — идентификатор пользователя, сделавшего звонок"
   ]
  },
  {
   "cell_type": "code",
   "execution_count": 2,
   "metadata": {},
   "outputs": [
    {
     "data": {
      "text/html": [
       "<div>\n",
       "<style scoped>\n",
       "    .dataframe tbody tr th:only-of-type {\n",
       "        vertical-align: middle;\n",
       "    }\n",
       "\n",
       "    .dataframe tbody tr th {\n",
       "        vertical-align: top;\n",
       "    }\n",
       "\n",
       "    .dataframe thead th {\n",
       "        text-align: right;\n",
       "    }\n",
       "</style>\n",
       "<table border=\"1\" class=\"dataframe\">\n",
       "  <thead>\n",
       "    <tr style=\"text-align: right;\">\n",
       "      <th></th>\n",
       "      <th>id</th>\n",
       "      <th>call_date</th>\n",
       "      <th>duration</th>\n",
       "      <th>user_id</th>\n",
       "    </tr>\n",
       "  </thead>\n",
       "  <tbody>\n",
       "    <tr>\n",
       "      <th>0</th>\n",
       "      <td>1000_0</td>\n",
       "      <td>2018-07-25</td>\n",
       "      <td>0.00</td>\n",
       "      <td>1000</td>\n",
       "    </tr>\n",
       "    <tr>\n",
       "      <th>1</th>\n",
       "      <td>1000_1</td>\n",
       "      <td>2018-08-17</td>\n",
       "      <td>0.00</td>\n",
       "      <td>1000</td>\n",
       "    </tr>\n",
       "    <tr>\n",
       "      <th>2</th>\n",
       "      <td>1000_2</td>\n",
       "      <td>2018-06-11</td>\n",
       "      <td>2.85</td>\n",
       "      <td>1000</td>\n",
       "    </tr>\n",
       "    <tr>\n",
       "      <th>3</th>\n",
       "      <td>1000_3</td>\n",
       "      <td>2018-09-21</td>\n",
       "      <td>13.80</td>\n",
       "      <td>1000</td>\n",
       "    </tr>\n",
       "    <tr>\n",
       "      <th>4</th>\n",
       "      <td>1000_4</td>\n",
       "      <td>2018-12-15</td>\n",
       "      <td>5.18</td>\n",
       "      <td>1000</td>\n",
       "    </tr>\n",
       "    <tr>\n",
       "      <th>5</th>\n",
       "      <td>1000_5</td>\n",
       "      <td>2018-11-02</td>\n",
       "      <td>0.00</td>\n",
       "      <td>1000</td>\n",
       "    </tr>\n",
       "    <tr>\n",
       "      <th>6</th>\n",
       "      <td>1000_6</td>\n",
       "      <td>2018-10-18</td>\n",
       "      <td>0.00</td>\n",
       "      <td>1000</td>\n",
       "    </tr>\n",
       "    <tr>\n",
       "      <th>7</th>\n",
       "      <td>1000_7</td>\n",
       "      <td>2018-08-22</td>\n",
       "      <td>18.31</td>\n",
       "      <td>1000</td>\n",
       "    </tr>\n",
       "    <tr>\n",
       "      <th>8</th>\n",
       "      <td>1000_8</td>\n",
       "      <td>2018-09-15</td>\n",
       "      <td>18.44</td>\n",
       "      <td>1000</td>\n",
       "    </tr>\n",
       "    <tr>\n",
       "      <th>9</th>\n",
       "      <td>1000_9</td>\n",
       "      <td>2018-08-15</td>\n",
       "      <td>0.00</td>\n",
       "      <td>1000</td>\n",
       "    </tr>\n",
       "  </tbody>\n",
       "</table>\n",
       "</div>"
      ],
      "text/plain": [
       "       id   call_date  duration  user_id\n",
       "0  1000_0  2018-07-25      0.00     1000\n",
       "1  1000_1  2018-08-17      0.00     1000\n",
       "2  1000_2  2018-06-11      2.85     1000\n",
       "3  1000_3  2018-09-21     13.80     1000\n",
       "4  1000_4  2018-12-15      5.18     1000\n",
       "5  1000_5  2018-11-02      0.00     1000\n",
       "6  1000_6  2018-10-18      0.00     1000\n",
       "7  1000_7  2018-08-22     18.31     1000\n",
       "8  1000_8  2018-09-15     18.44     1000\n",
       "9  1000_9  2018-08-15      0.00     1000"
      ]
     },
     "execution_count": 2,
     "metadata": {},
     "output_type": "execute_result"
    }
   ],
   "source": [
    "import pandas as pd  #импортируем библиотеку pandas\n",
    "calls = pd.read_csv('/datasets/calls.csv')\n",
    "#calls = pd.read_csv('calls.csv')\n",
    "calls.head(10) #посмотрим первые 10 строк датафрейма"
   ]
  },
  {
   "cell_type": "code",
   "execution_count": 3,
   "metadata": {},
   "outputs": [
    {
     "name": "stdout",
     "output_type": "stream",
     "text": [
      "<class 'pandas.core.frame.DataFrame'>\n",
      "RangeIndex: 202607 entries, 0 to 202606\n",
      "Data columns (total 4 columns):\n",
      " #   Column     Non-Null Count   Dtype  \n",
      "---  ------     --------------   -----  \n",
      " 0   id         202607 non-null  object \n",
      " 1   call_date  202607 non-null  object \n",
      " 2   duration   202607 non-null  float64\n",
      " 3   user_id    202607 non-null  int64  \n",
      "dtypes: float64(1), int64(1), object(2)\n",
      "memory usage: 6.2+ MB\n"
     ]
    }
   ],
   "source": [
    "calls.info()"
   ]
  },
  {
   "cell_type": "markdown",
   "metadata": {},
   "source": [
    "### Таблица Users"
   ]
  },
  {
   "cell_type": "markdown",
   "metadata": {},
   "source": [
    "Таблица users (информация о пользователях):\n",
    "- user_id — уникальный идентификатор пользователя\n",
    "- first_name — имя пользователя\n",
    "- last_name — фамилия пользователя\n",
    "- age — возраст пользователя (годы)\n",
    "- reg_date — дата подключения тарифа (день, месяц, год)\n",
    "- churn_date — дата прекращения пользования тарифом (если значение пропущено, то тариф ещё действовал на момент выгрузки данных)\n",
    "- city — город проживания пользователя\n",
    "- tariff — название тарифного плана"
   ]
  },
  {
   "cell_type": "code",
   "execution_count": 4,
   "metadata": {},
   "outputs": [
    {
     "data": {
      "text/html": [
       "<div>\n",
       "<style scoped>\n",
       "    .dataframe tbody tr th:only-of-type {\n",
       "        vertical-align: middle;\n",
       "    }\n",
       "\n",
       "    .dataframe tbody tr th {\n",
       "        vertical-align: top;\n",
       "    }\n",
       "\n",
       "    .dataframe thead th {\n",
       "        text-align: right;\n",
       "    }\n",
       "</style>\n",
       "<table border=\"1\" class=\"dataframe\">\n",
       "  <thead>\n",
       "    <tr style=\"text-align: right;\">\n",
       "      <th></th>\n",
       "      <th>user_id</th>\n",
       "      <th>age</th>\n",
       "      <th>churn_date</th>\n",
       "      <th>city</th>\n",
       "      <th>first_name</th>\n",
       "      <th>last_name</th>\n",
       "      <th>reg_date</th>\n",
       "      <th>tariff</th>\n",
       "    </tr>\n",
       "  </thead>\n",
       "  <tbody>\n",
       "    <tr>\n",
       "      <th>0</th>\n",
       "      <td>1000</td>\n",
       "      <td>52</td>\n",
       "      <td>NaN</td>\n",
       "      <td>Краснодар</td>\n",
       "      <td>Рафаил</td>\n",
       "      <td>Верещагин</td>\n",
       "      <td>2018-05-25</td>\n",
       "      <td>ultra</td>\n",
       "    </tr>\n",
       "    <tr>\n",
       "      <th>1</th>\n",
       "      <td>1001</td>\n",
       "      <td>41</td>\n",
       "      <td>NaN</td>\n",
       "      <td>Москва</td>\n",
       "      <td>Иван</td>\n",
       "      <td>Ежов</td>\n",
       "      <td>2018-11-01</td>\n",
       "      <td>smart</td>\n",
       "    </tr>\n",
       "    <tr>\n",
       "      <th>2</th>\n",
       "      <td>1002</td>\n",
       "      <td>59</td>\n",
       "      <td>NaN</td>\n",
       "      <td>Стерлитамак</td>\n",
       "      <td>Евгений</td>\n",
       "      <td>Абрамович</td>\n",
       "      <td>2018-06-17</td>\n",
       "      <td>smart</td>\n",
       "    </tr>\n",
       "    <tr>\n",
       "      <th>3</th>\n",
       "      <td>1003</td>\n",
       "      <td>23</td>\n",
       "      <td>NaN</td>\n",
       "      <td>Москва</td>\n",
       "      <td>Белла</td>\n",
       "      <td>Белякова</td>\n",
       "      <td>2018-08-17</td>\n",
       "      <td>ultra</td>\n",
       "    </tr>\n",
       "    <tr>\n",
       "      <th>4</th>\n",
       "      <td>1004</td>\n",
       "      <td>68</td>\n",
       "      <td>NaN</td>\n",
       "      <td>Новокузнецк</td>\n",
       "      <td>Татьяна</td>\n",
       "      <td>Авдеенко</td>\n",
       "      <td>2018-05-14</td>\n",
       "      <td>ultra</td>\n",
       "    </tr>\n",
       "    <tr>\n",
       "      <th>5</th>\n",
       "      <td>1005</td>\n",
       "      <td>67</td>\n",
       "      <td>NaN</td>\n",
       "      <td>Набережные Челны</td>\n",
       "      <td>Афанасий</td>\n",
       "      <td>Горлов</td>\n",
       "      <td>2018-01-25</td>\n",
       "      <td>smart</td>\n",
       "    </tr>\n",
       "    <tr>\n",
       "      <th>6</th>\n",
       "      <td>1006</td>\n",
       "      <td>21</td>\n",
       "      <td>NaN</td>\n",
       "      <td>Ульяновск</td>\n",
       "      <td>Леонид</td>\n",
       "      <td>Ермолаев</td>\n",
       "      <td>2018-02-26</td>\n",
       "      <td>smart</td>\n",
       "    </tr>\n",
       "    <tr>\n",
       "      <th>7</th>\n",
       "      <td>1007</td>\n",
       "      <td>65</td>\n",
       "      <td>NaN</td>\n",
       "      <td>Москва</td>\n",
       "      <td>Юна</td>\n",
       "      <td>Березина</td>\n",
       "      <td>2018-04-19</td>\n",
       "      <td>smart</td>\n",
       "    </tr>\n",
       "    <tr>\n",
       "      <th>8</th>\n",
       "      <td>1008</td>\n",
       "      <td>63</td>\n",
       "      <td>NaN</td>\n",
       "      <td>Челябинск</td>\n",
       "      <td>Рустэм</td>\n",
       "      <td>Пономарёв</td>\n",
       "      <td>2018-12-19</td>\n",
       "      <td>smart</td>\n",
       "    </tr>\n",
       "    <tr>\n",
       "      <th>9</th>\n",
       "      <td>1009</td>\n",
       "      <td>24</td>\n",
       "      <td>NaN</td>\n",
       "      <td>Пермь</td>\n",
       "      <td>Василиса</td>\n",
       "      <td>Блинова</td>\n",
       "      <td>2018-03-22</td>\n",
       "      <td>smart</td>\n",
       "    </tr>\n",
       "  </tbody>\n",
       "</table>\n",
       "</div>"
      ],
      "text/plain": [
       "   user_id  age churn_date              city first_name  last_name  \\\n",
       "0     1000   52        NaN         Краснодар     Рафаил  Верещагин   \n",
       "1     1001   41        NaN            Москва       Иван       Ежов   \n",
       "2     1002   59        NaN       Стерлитамак    Евгений  Абрамович   \n",
       "3     1003   23        NaN            Москва      Белла   Белякова   \n",
       "4     1004   68        NaN       Новокузнецк    Татьяна   Авдеенко   \n",
       "5     1005   67        NaN  Набережные Челны   Афанасий     Горлов   \n",
       "6     1006   21        NaN         Ульяновск     Леонид   Ермолаев   \n",
       "7     1007   65        NaN            Москва        Юна   Березина   \n",
       "8     1008   63        NaN         Челябинск     Рустэм  Пономарёв   \n",
       "9     1009   24        NaN             Пермь   Василиса    Блинова   \n",
       "\n",
       "     reg_date tariff  \n",
       "0  2018-05-25  ultra  \n",
       "1  2018-11-01  smart  \n",
       "2  2018-06-17  smart  \n",
       "3  2018-08-17  ultra  \n",
       "4  2018-05-14  ultra  \n",
       "5  2018-01-25  smart  \n",
       "6  2018-02-26  smart  \n",
       "7  2018-04-19  smart  \n",
       "8  2018-12-19  smart  \n",
       "9  2018-03-22  smart  "
      ]
     },
     "execution_count": 4,
     "metadata": {},
     "output_type": "execute_result"
    }
   ],
   "source": [
    "users = pd.read_csv('/datasets/users.csv')\n",
    "#users = pd.read_csv('users.csv')\n",
    "users.head(10) #посмотрим первые 10 строк датафрейма"
   ]
  },
  {
   "cell_type": "code",
   "execution_count": 5,
   "metadata": {},
   "outputs": [
    {
     "name": "stdout",
     "output_type": "stream",
     "text": [
      "<class 'pandas.core.frame.DataFrame'>\n",
      "RangeIndex: 500 entries, 0 to 499\n",
      "Data columns (total 8 columns):\n",
      " #   Column      Non-Null Count  Dtype \n",
      "---  ------      --------------  ----- \n",
      " 0   user_id     500 non-null    int64 \n",
      " 1   age         500 non-null    int64 \n",
      " 2   churn_date  38 non-null     object\n",
      " 3   city        500 non-null    object\n",
      " 4   first_name  500 non-null    object\n",
      " 5   last_name   500 non-null    object\n",
      " 6   reg_date    500 non-null    object\n",
      " 7   tariff      500 non-null    object\n",
      "dtypes: int64(2), object(6)\n",
      "memory usage: 31.4+ KB\n"
     ]
    }
   ],
   "source": [
    "users.info()"
   ]
  },
  {
   "cell_type": "markdown",
   "metadata": {},
   "source": [
    "### Таблица Messages"
   ]
  },
  {
   "cell_type": "markdown",
   "metadata": {},
   "source": [
    "Таблица messages (информация о сообщениях):\n",
    "- id — уникальный номер сообщения\n",
    "- message_date — дата сообщения\n",
    "- user_id — идентификатор пользователя, отправившего сообщение"
   ]
  },
  {
   "cell_type": "code",
   "execution_count": 6,
   "metadata": {},
   "outputs": [
    {
     "data": {
      "text/html": [
       "<div>\n",
       "<style scoped>\n",
       "    .dataframe tbody tr th:only-of-type {\n",
       "        vertical-align: middle;\n",
       "    }\n",
       "\n",
       "    .dataframe tbody tr th {\n",
       "        vertical-align: top;\n",
       "    }\n",
       "\n",
       "    .dataframe thead th {\n",
       "        text-align: right;\n",
       "    }\n",
       "</style>\n",
       "<table border=\"1\" class=\"dataframe\">\n",
       "  <thead>\n",
       "    <tr style=\"text-align: right;\">\n",
       "      <th></th>\n",
       "      <th>id</th>\n",
       "      <th>message_date</th>\n",
       "      <th>user_id</th>\n",
       "    </tr>\n",
       "  </thead>\n",
       "  <tbody>\n",
       "    <tr>\n",
       "      <th>0</th>\n",
       "      <td>1000_0</td>\n",
       "      <td>2018-06-27</td>\n",
       "      <td>1000</td>\n",
       "    </tr>\n",
       "    <tr>\n",
       "      <th>1</th>\n",
       "      <td>1000_1</td>\n",
       "      <td>2018-10-08</td>\n",
       "      <td>1000</td>\n",
       "    </tr>\n",
       "    <tr>\n",
       "      <th>2</th>\n",
       "      <td>1000_2</td>\n",
       "      <td>2018-08-04</td>\n",
       "      <td>1000</td>\n",
       "    </tr>\n",
       "    <tr>\n",
       "      <th>3</th>\n",
       "      <td>1000_3</td>\n",
       "      <td>2018-06-16</td>\n",
       "      <td>1000</td>\n",
       "    </tr>\n",
       "    <tr>\n",
       "      <th>4</th>\n",
       "      <td>1000_4</td>\n",
       "      <td>2018-12-05</td>\n",
       "      <td>1000</td>\n",
       "    </tr>\n",
       "    <tr>\n",
       "      <th>5</th>\n",
       "      <td>1000_5</td>\n",
       "      <td>2018-06-20</td>\n",
       "      <td>1000</td>\n",
       "    </tr>\n",
       "    <tr>\n",
       "      <th>6</th>\n",
       "      <td>1000_6</td>\n",
       "      <td>2018-11-19</td>\n",
       "      <td>1000</td>\n",
       "    </tr>\n",
       "    <tr>\n",
       "      <th>7</th>\n",
       "      <td>1000_7</td>\n",
       "      <td>2018-10-29</td>\n",
       "      <td>1000</td>\n",
       "    </tr>\n",
       "    <tr>\n",
       "      <th>8</th>\n",
       "      <td>1000_8</td>\n",
       "      <td>2018-06-25</td>\n",
       "      <td>1000</td>\n",
       "    </tr>\n",
       "    <tr>\n",
       "      <th>9</th>\n",
       "      <td>1000_9</td>\n",
       "      <td>2018-12-18</td>\n",
       "      <td>1000</td>\n",
       "    </tr>\n",
       "  </tbody>\n",
       "</table>\n",
       "</div>"
      ],
      "text/plain": [
       "       id message_date  user_id\n",
       "0  1000_0   2018-06-27     1000\n",
       "1  1000_1   2018-10-08     1000\n",
       "2  1000_2   2018-08-04     1000\n",
       "3  1000_3   2018-06-16     1000\n",
       "4  1000_4   2018-12-05     1000\n",
       "5  1000_5   2018-06-20     1000\n",
       "6  1000_6   2018-11-19     1000\n",
       "7  1000_7   2018-10-29     1000\n",
       "8  1000_8   2018-06-25     1000\n",
       "9  1000_9   2018-12-18     1000"
      ]
     },
     "execution_count": 6,
     "metadata": {},
     "output_type": "execute_result"
    }
   ],
   "source": [
    "messages = pd.read_csv('/datasets/messages.csv')\n",
    "#messages = pd.read_csv('messages.csv')\n",
    "messages.head(10) #посмотрим первые 10 строк датафрейма"
   ]
  },
  {
   "cell_type": "code",
   "execution_count": 7,
   "metadata": {},
   "outputs": [
    {
     "name": "stdout",
     "output_type": "stream",
     "text": [
      "<class 'pandas.core.frame.DataFrame'>\n",
      "RangeIndex: 123036 entries, 0 to 123035\n",
      "Data columns (total 3 columns):\n",
      " #   Column        Non-Null Count   Dtype \n",
      "---  ------        --------------   ----- \n",
      " 0   id            123036 non-null  object\n",
      " 1   message_date  123036 non-null  object\n",
      " 2   user_id       123036 non-null  int64 \n",
      "dtypes: int64(1), object(2)\n",
      "memory usage: 2.8+ MB\n"
     ]
    }
   ],
   "source": [
    "messages.info()"
   ]
  },
  {
   "cell_type": "markdown",
   "metadata": {},
   "source": [
    "### Таблица Internet"
   ]
  },
  {
   "cell_type": "markdown",
   "metadata": {},
   "source": [
    "Таблица internet (информация об интернет-сессиях):\n",
    "- id — уникальный номер сессии\n",
    "- mb_used — объём потраченного за сессию интернет-трафика (в мегабайтах)\n",
    "- session_date — дата интернет-сессии\n",
    "- user_id — идентификатор пользователя"
   ]
  },
  {
   "cell_type": "code",
   "execution_count": 8,
   "metadata": {},
   "outputs": [
    {
     "data": {
      "text/html": [
       "<div>\n",
       "<style scoped>\n",
       "    .dataframe tbody tr th:only-of-type {\n",
       "        vertical-align: middle;\n",
       "    }\n",
       "\n",
       "    .dataframe tbody tr th {\n",
       "        vertical-align: top;\n",
       "    }\n",
       "\n",
       "    .dataframe thead th {\n",
       "        text-align: right;\n",
       "    }\n",
       "</style>\n",
       "<table border=\"1\" class=\"dataframe\">\n",
       "  <thead>\n",
       "    <tr style=\"text-align: right;\">\n",
       "      <th></th>\n",
       "      <th>Unnamed: 0</th>\n",
       "      <th>id</th>\n",
       "      <th>mb_used</th>\n",
       "      <th>session_date</th>\n",
       "      <th>user_id</th>\n",
       "    </tr>\n",
       "  </thead>\n",
       "  <tbody>\n",
       "    <tr>\n",
       "      <th>0</th>\n",
       "      <td>0</td>\n",
       "      <td>1000_0</td>\n",
       "      <td>112.95</td>\n",
       "      <td>2018-11-25</td>\n",
       "      <td>1000</td>\n",
       "    </tr>\n",
       "    <tr>\n",
       "      <th>1</th>\n",
       "      <td>1</td>\n",
       "      <td>1000_1</td>\n",
       "      <td>1052.81</td>\n",
       "      <td>2018-09-07</td>\n",
       "      <td>1000</td>\n",
       "    </tr>\n",
       "    <tr>\n",
       "      <th>2</th>\n",
       "      <td>2</td>\n",
       "      <td>1000_2</td>\n",
       "      <td>1197.26</td>\n",
       "      <td>2018-06-25</td>\n",
       "      <td>1000</td>\n",
       "    </tr>\n",
       "    <tr>\n",
       "      <th>3</th>\n",
       "      <td>3</td>\n",
       "      <td>1000_3</td>\n",
       "      <td>550.27</td>\n",
       "      <td>2018-08-22</td>\n",
       "      <td>1000</td>\n",
       "    </tr>\n",
       "    <tr>\n",
       "      <th>4</th>\n",
       "      <td>4</td>\n",
       "      <td>1000_4</td>\n",
       "      <td>302.56</td>\n",
       "      <td>2018-09-24</td>\n",
       "      <td>1000</td>\n",
       "    </tr>\n",
       "    <tr>\n",
       "      <th>5</th>\n",
       "      <td>5</td>\n",
       "      <td>1000_5</td>\n",
       "      <td>399.97</td>\n",
       "      <td>2018-10-02</td>\n",
       "      <td>1000</td>\n",
       "    </tr>\n",
       "    <tr>\n",
       "      <th>6</th>\n",
       "      <td>6</td>\n",
       "      <td>1000_6</td>\n",
       "      <td>540.08</td>\n",
       "      <td>2018-09-07</td>\n",
       "      <td>1000</td>\n",
       "    </tr>\n",
       "    <tr>\n",
       "      <th>7</th>\n",
       "      <td>7</td>\n",
       "      <td>1000_7</td>\n",
       "      <td>415.70</td>\n",
       "      <td>2018-07-11</td>\n",
       "      <td>1000</td>\n",
       "    </tr>\n",
       "    <tr>\n",
       "      <th>8</th>\n",
       "      <td>8</td>\n",
       "      <td>1000_8</td>\n",
       "      <td>505.40</td>\n",
       "      <td>2018-10-08</td>\n",
       "      <td>1000</td>\n",
       "    </tr>\n",
       "    <tr>\n",
       "      <th>9</th>\n",
       "      <td>9</td>\n",
       "      <td>1000_9</td>\n",
       "      <td>345.54</td>\n",
       "      <td>2018-09-03</td>\n",
       "      <td>1000</td>\n",
       "    </tr>\n",
       "  </tbody>\n",
       "</table>\n",
       "</div>"
      ],
      "text/plain": [
       "   Unnamed: 0      id  mb_used session_date  user_id\n",
       "0           0  1000_0   112.95   2018-11-25     1000\n",
       "1           1  1000_1  1052.81   2018-09-07     1000\n",
       "2           2  1000_2  1197.26   2018-06-25     1000\n",
       "3           3  1000_3   550.27   2018-08-22     1000\n",
       "4           4  1000_4   302.56   2018-09-24     1000\n",
       "5           5  1000_5   399.97   2018-10-02     1000\n",
       "6           6  1000_6   540.08   2018-09-07     1000\n",
       "7           7  1000_7   415.70   2018-07-11     1000\n",
       "8           8  1000_8   505.40   2018-10-08     1000\n",
       "9           9  1000_9   345.54   2018-09-03     1000"
      ]
     },
     "execution_count": 8,
     "metadata": {},
     "output_type": "execute_result"
    }
   ],
   "source": [
    "internet = pd.read_csv('/datasets/internet.csv')\n",
    "#internet = pd.read_csv('internet.csv')\n",
    "internet.head(10) #посмотрим первые 10 строк датафрейма"
   ]
  },
  {
   "cell_type": "code",
   "execution_count": 9,
   "metadata": {},
   "outputs": [
    {
     "name": "stdout",
     "output_type": "stream",
     "text": [
      "<class 'pandas.core.frame.DataFrame'>\n",
      "RangeIndex: 149396 entries, 0 to 149395\n",
      "Data columns (total 5 columns):\n",
      " #   Column        Non-Null Count   Dtype  \n",
      "---  ------        --------------   -----  \n",
      " 0   Unnamed: 0    149396 non-null  int64  \n",
      " 1   id            149396 non-null  object \n",
      " 2   mb_used       149396 non-null  float64\n",
      " 3   session_date  149396 non-null  object \n",
      " 4   user_id       149396 non-null  int64  \n",
      "dtypes: float64(1), int64(2), object(2)\n",
      "memory usage: 5.7+ MB\n"
     ]
    }
   ],
   "source": [
    "internet.info()"
   ]
  },
  {
   "cell_type": "markdown",
   "metadata": {},
   "source": [
    "### Таблица Tariffs"
   ]
  },
  {
   "cell_type": "markdown",
   "metadata": {},
   "source": [
    "Таблица tariffs (информация о тарифах):\n",
    "- tariff_name — название тарифа\n",
    "- rub_monthly_fee — ежемесячная абонентская плата в рублях\n",
    "- minutes_included — количество минут разговора в месяц, включённых в абонентскую плату\n",
    "- messages_included — количество сообщений в месяц, включённых в абонентскую плату\n",
    "- mb_per_month_included — объём интернет-трафика, включённого в абонентскую плату (в мегабайтах)\n",
    "- rub_per_minute — стоимость минуты разговора сверх тарифного пакета (например, если в тарифе 100 минут разговора в месяц, то со - 101 минуты будет взиматься плата)\n",
    "- rub_per_message — стоимость отправки сообщения сверх тарифного пакета\n",
    "- rub_per_gb — стоимость дополнительного гигабайта интернет-трафика сверх тарифного пакета (1 гигабайт = 1024 мегабайта)"
   ]
  },
  {
   "cell_type": "code",
   "execution_count": 10,
   "metadata": {},
   "outputs": [
    {
     "data": {
      "text/html": [
       "<div>\n",
       "<style scoped>\n",
       "    .dataframe tbody tr th:only-of-type {\n",
       "        vertical-align: middle;\n",
       "    }\n",
       "\n",
       "    .dataframe tbody tr th {\n",
       "        vertical-align: top;\n",
       "    }\n",
       "\n",
       "    .dataframe thead th {\n",
       "        text-align: right;\n",
       "    }\n",
       "</style>\n",
       "<table border=\"1\" class=\"dataframe\">\n",
       "  <thead>\n",
       "    <tr style=\"text-align: right;\">\n",
       "      <th></th>\n",
       "      <th>messages_included</th>\n",
       "      <th>mb_per_month_included</th>\n",
       "      <th>minutes_included</th>\n",
       "      <th>rub_monthly_fee</th>\n",
       "      <th>rub_per_gb</th>\n",
       "      <th>rub_per_message</th>\n",
       "      <th>rub_per_minute</th>\n",
       "      <th>tariff_name</th>\n",
       "    </tr>\n",
       "  </thead>\n",
       "  <tbody>\n",
       "    <tr>\n",
       "      <th>0</th>\n",
       "      <td>50</td>\n",
       "      <td>15360</td>\n",
       "      <td>500</td>\n",
       "      <td>550</td>\n",
       "      <td>200</td>\n",
       "      <td>3</td>\n",
       "      <td>3</td>\n",
       "      <td>smart</td>\n",
       "    </tr>\n",
       "    <tr>\n",
       "      <th>1</th>\n",
       "      <td>1000</td>\n",
       "      <td>30720</td>\n",
       "      <td>3000</td>\n",
       "      <td>1950</td>\n",
       "      <td>150</td>\n",
       "      <td>1</td>\n",
       "      <td>1</td>\n",
       "      <td>ultra</td>\n",
       "    </tr>\n",
       "  </tbody>\n",
       "</table>\n",
       "</div>"
      ],
      "text/plain": [
       "   messages_included  mb_per_month_included  minutes_included  \\\n",
       "0                 50                  15360               500   \n",
       "1               1000                  30720              3000   \n",
       "\n",
       "   rub_monthly_fee  rub_per_gb  rub_per_message  rub_per_minute tariff_name  \n",
       "0              550         200                3               3       smart  \n",
       "1             1950         150                1               1       ultra  "
      ]
     },
     "execution_count": 10,
     "metadata": {},
     "output_type": "execute_result"
    }
   ],
   "source": [
    "tariffs = pd.read_csv('/datasets/tariffs.csv')\n",
    "#tariffs = pd.read_csv('tariffs.csv')\n",
    "tariffs.head(10) #посмотрим первые 10 строк датафрейма"
   ]
  },
  {
   "cell_type": "code",
   "execution_count": 11,
   "metadata": {},
   "outputs": [
    {
     "name": "stdout",
     "output_type": "stream",
     "text": [
      "<class 'pandas.core.frame.DataFrame'>\n",
      "RangeIndex: 2 entries, 0 to 1\n",
      "Data columns (total 8 columns):\n",
      " #   Column                 Non-Null Count  Dtype \n",
      "---  ------                 --------------  ----- \n",
      " 0   messages_included      2 non-null      int64 \n",
      " 1   mb_per_month_included  2 non-null      int64 \n",
      " 2   minutes_included       2 non-null      int64 \n",
      " 3   rub_monthly_fee        2 non-null      int64 \n",
      " 4   rub_per_gb             2 non-null      int64 \n",
      " 5   rub_per_message        2 non-null      int64 \n",
      " 6   rub_per_minute         2 non-null      int64 \n",
      " 7   tariff_name            2 non-null      object\n",
      "dtypes: int64(7), object(1)\n",
      "memory usage: 256.0+ bytes\n"
     ]
    }
   ],
   "source": [
    "tariffs.info()"
   ]
  },
  {
   "cell_type": "markdown",
   "metadata": {},
   "source": [
    "Видим, что названия столбцов соотвествуют правилам названиям переменных. При помощи метода info() посмотрели информацию по каждому датасету. Также представили описание полей."
   ]
  },
  {
   "cell_type": "markdown",
   "metadata": {},
   "source": [
    "## Предобработка данных"
   ]
  },
  {
   "cell_type": "markdown",
   "metadata": {},
   "source": [
    "Приведите данные к нужным типам;\n",
    "Найдите и исправьте ошибки в данных, если они есть.\n",
    "Поясните, какие ошибки вы нашли и как их исправили. В данных вы найдёте звонки с нулевой продолжительностью. \n",
    "Это не ошибка: нулями обозначены пропущенные звонки, поэтому их не нужно удалять."
   ]
  },
  {
   "cell_type": "markdown",
   "metadata": {},
   "source": [
    "### Предобработка таблицы Calls"
   ]
  },
  {
   "cell_type": "code",
   "execution_count": 12,
   "metadata": {},
   "outputs": [
    {
     "data": {
      "text/html": [
       "<div>\n",
       "<style scoped>\n",
       "    .dataframe tbody tr th:only-of-type {\n",
       "        vertical-align: middle;\n",
       "    }\n",
       "\n",
       "    .dataframe tbody tr th {\n",
       "        vertical-align: top;\n",
       "    }\n",
       "\n",
       "    .dataframe thead th {\n",
       "        text-align: right;\n",
       "    }\n",
       "</style>\n",
       "<table border=\"1\" class=\"dataframe\">\n",
       "  <thead>\n",
       "    <tr style=\"text-align: right;\">\n",
       "      <th></th>\n",
       "      <th>id</th>\n",
       "      <th>call_date</th>\n",
       "      <th>duration</th>\n",
       "      <th>user_id</th>\n",
       "    </tr>\n",
       "  </thead>\n",
       "  <tbody>\n",
       "    <tr>\n",
       "      <th>0</th>\n",
       "      <td>1000_0</td>\n",
       "      <td>2018-07-25</td>\n",
       "      <td>0</td>\n",
       "      <td>1000</td>\n",
       "    </tr>\n",
       "    <tr>\n",
       "      <th>1</th>\n",
       "      <td>1000_1</td>\n",
       "      <td>2018-08-17</td>\n",
       "      <td>0</td>\n",
       "      <td>1000</td>\n",
       "    </tr>\n",
       "    <tr>\n",
       "      <th>2</th>\n",
       "      <td>1000_2</td>\n",
       "      <td>2018-06-11</td>\n",
       "      <td>3</td>\n",
       "      <td>1000</td>\n",
       "    </tr>\n",
       "    <tr>\n",
       "      <th>3</th>\n",
       "      <td>1000_3</td>\n",
       "      <td>2018-09-21</td>\n",
       "      <td>14</td>\n",
       "      <td>1000</td>\n",
       "    </tr>\n",
       "    <tr>\n",
       "      <th>4</th>\n",
       "      <td>1000_4</td>\n",
       "      <td>2018-12-15</td>\n",
       "      <td>6</td>\n",
       "      <td>1000</td>\n",
       "    </tr>\n",
       "  </tbody>\n",
       "</table>\n",
       "</div>"
      ],
      "text/plain": [
       "       id  call_date  duration  user_id\n",
       "0  1000_0 2018-07-25         0     1000\n",
       "1  1000_1 2018-08-17         0     1000\n",
       "2  1000_2 2018-06-11         3     1000\n",
       "3  1000_3 2018-09-21        14     1000\n",
       "4  1000_4 2018-12-15         6     1000"
      ]
     },
     "execution_count": 12,
     "metadata": {},
     "output_type": "execute_result"
    }
   ],
   "source": [
    "# начнем с таблицы calls. Дату звонка приведем к типу datetime, а продолжительность звонков к типу int, \n",
    "#округлив в большую сторону по заданию\n",
    "import numpy as np\n",
    "calls['call_date'] = pd.to_datetime(calls['call_date'], format='%Y-%m-%d')\n",
    "calls['duration'] = calls['duration'].apply(np.ceil).astype('int')\n",
    "calls.head()"
   ]
  },
  {
   "cell_type": "code",
   "execution_count": 13,
   "metadata": {},
   "outputs": [],
   "source": [
    "#Также добавим столбец с номером месяца\n",
    "calls['month'] = calls['call_date'].dt.month"
   ]
  },
  {
   "cell_type": "code",
   "execution_count": 14,
   "metadata": {},
   "outputs": [
    {
     "name": "stdout",
     "output_type": "stream",
     "text": [
      "<class 'pandas.core.frame.DataFrame'>\n",
      "RangeIndex: 202607 entries, 0 to 202606\n",
      "Data columns (total 5 columns):\n",
      " #   Column     Non-Null Count   Dtype         \n",
      "---  ------     --------------   -----         \n",
      " 0   id         202607 non-null  object        \n",
      " 1   call_date  202607 non-null  datetime64[ns]\n",
      " 2   duration   202607 non-null  int64         \n",
      " 3   user_id    202607 non-null  int64         \n",
      " 4   month      202607 non-null  int64         \n",
      "dtypes: datetime64[ns](1), int64(3), object(1)\n",
      "memory usage: 7.7+ MB\n"
     ]
    }
   ],
   "source": [
    "calls.info()"
   ]
  },
  {
   "cell_type": "markdown",
   "metadata": {},
   "source": [
    "Судя по информации о таблице, пропусков в данных нет, проверим данные в таблице на аномалии. В случае продолжительности звонка аномальными можно считать отрицательные значения. Также надо рассмотреть значения месяцев."
   ]
  },
  {
   "cell_type": "code",
   "execution_count": 15,
   "metadata": {},
   "outputs": [
    {
     "data": {
      "text/plain": [
       "Series([], Name: duration, dtype: int64)"
      ]
     },
     "execution_count": 15,
     "metadata": {},
     "output_type": "execute_result"
    }
   ],
   "source": [
    "calls[calls['duration'] < 0]['duration']"
   ]
  },
  {
   "cell_type": "code",
   "execution_count": 16,
   "metadata": {},
   "outputs": [
    {
     "data": {
      "text/plain": [
       "12    33987\n",
       "11    29501\n",
       "10    27146\n",
       "9     24061\n",
       "8     21488\n",
       "7     18298\n",
       "6     14716\n",
       "5     12647\n",
       "4      9272\n",
       "3      6687\n",
       "2      3328\n",
       "1      1476\n",
       "Name: month, dtype: int64"
      ]
     },
     "execution_count": 16,
     "metadata": {},
     "output_type": "execute_result"
    }
   ],
   "source": [
    "calls['month'].value_counts()"
   ]
  },
  {
   "cell_type": "markdown",
   "metadata": {},
   "source": [
    "Аномальных значений нет. Перейдем к следующей таблице. В таблице messages также датуприведем к типу datetime и добавим столбец с месяцем."
   ]
  },
  {
   "cell_type": "markdown",
   "metadata": {},
   "source": [
    "### Предобработка таблицы Messages"
   ]
  },
  {
   "cell_type": "code",
   "execution_count": 17,
   "metadata": {},
   "outputs": [
    {
     "data": {
      "text/html": [
       "<div>\n",
       "<style scoped>\n",
       "    .dataframe tbody tr th:only-of-type {\n",
       "        vertical-align: middle;\n",
       "    }\n",
       "\n",
       "    .dataframe tbody tr th {\n",
       "        vertical-align: top;\n",
       "    }\n",
       "\n",
       "    .dataframe thead th {\n",
       "        text-align: right;\n",
       "    }\n",
       "</style>\n",
       "<table border=\"1\" class=\"dataframe\">\n",
       "  <thead>\n",
       "    <tr style=\"text-align: right;\">\n",
       "      <th></th>\n",
       "      <th>id</th>\n",
       "      <th>message_date</th>\n",
       "      <th>user_id</th>\n",
       "      <th>month</th>\n",
       "    </tr>\n",
       "  </thead>\n",
       "  <tbody>\n",
       "    <tr>\n",
       "      <th>0</th>\n",
       "      <td>1000_0</td>\n",
       "      <td>2018-06-27</td>\n",
       "      <td>1000</td>\n",
       "      <td>6</td>\n",
       "    </tr>\n",
       "    <tr>\n",
       "      <th>1</th>\n",
       "      <td>1000_1</td>\n",
       "      <td>2018-10-08</td>\n",
       "      <td>1000</td>\n",
       "      <td>10</td>\n",
       "    </tr>\n",
       "    <tr>\n",
       "      <th>2</th>\n",
       "      <td>1000_2</td>\n",
       "      <td>2018-08-04</td>\n",
       "      <td>1000</td>\n",
       "      <td>8</td>\n",
       "    </tr>\n",
       "    <tr>\n",
       "      <th>3</th>\n",
       "      <td>1000_3</td>\n",
       "      <td>2018-06-16</td>\n",
       "      <td>1000</td>\n",
       "      <td>6</td>\n",
       "    </tr>\n",
       "    <tr>\n",
       "      <th>4</th>\n",
       "      <td>1000_4</td>\n",
       "      <td>2018-12-05</td>\n",
       "      <td>1000</td>\n",
       "      <td>12</td>\n",
       "    </tr>\n",
       "  </tbody>\n",
       "</table>\n",
       "</div>"
      ],
      "text/plain": [
       "       id message_date  user_id  month\n",
       "0  1000_0   2018-06-27     1000      6\n",
       "1  1000_1   2018-10-08     1000     10\n",
       "2  1000_2   2018-08-04     1000      8\n",
       "3  1000_3   2018-06-16     1000      6\n",
       "4  1000_4   2018-12-05     1000     12"
      ]
     },
     "execution_count": 17,
     "metadata": {},
     "output_type": "execute_result"
    }
   ],
   "source": [
    "messages['message_date'] = pd.to_datetime(messages['message_date'], format='%Y-%m-%d')\n",
    "messages['month'] = messages['message_date'].dt.month\n",
    "messages.head()"
   ]
  },
  {
   "cell_type": "code",
   "execution_count": 18,
   "metadata": {},
   "outputs": [
    {
     "data": {
      "text/plain": [
       "12    20555\n",
       "11    18244\n",
       "10    17114\n",
       "9     14759\n",
       "8     13088\n",
       "7     11320\n",
       "6      8983\n",
       "5      7298\n",
       "4      5179\n",
       "3      3648\n",
       "2      1924\n",
       "1       924\n",
       "Name: month, dtype: int64"
      ]
     },
     "execution_count": 18,
     "metadata": {},
     "output_type": "execute_result"
    }
   ],
   "source": [
    "messages['month'].value_counts()"
   ]
  },
  {
   "cell_type": "markdown",
   "metadata": {},
   "source": [
    "### Предобработка таблицы Internet"
   ]
  },
  {
   "cell_type": "markdown",
   "metadata": {},
   "source": [
    "В таблице internet также дату приведем к типу datetime и добавим столбец с месяцем."
   ]
  },
  {
   "cell_type": "code",
   "execution_count": 19,
   "metadata": {},
   "outputs": [
    {
     "data": {
      "text/html": [
       "<div>\n",
       "<style scoped>\n",
       "    .dataframe tbody tr th:only-of-type {\n",
       "        vertical-align: middle;\n",
       "    }\n",
       "\n",
       "    .dataframe tbody tr th {\n",
       "        vertical-align: top;\n",
       "    }\n",
       "\n",
       "    .dataframe thead th {\n",
       "        text-align: right;\n",
       "    }\n",
       "</style>\n",
       "<table border=\"1\" class=\"dataframe\">\n",
       "  <thead>\n",
       "    <tr style=\"text-align: right;\">\n",
       "      <th></th>\n",
       "      <th>Unnamed: 0</th>\n",
       "      <th>id</th>\n",
       "      <th>mb_used</th>\n",
       "      <th>session_date</th>\n",
       "      <th>user_id</th>\n",
       "      <th>month</th>\n",
       "    </tr>\n",
       "  </thead>\n",
       "  <tbody>\n",
       "    <tr>\n",
       "      <th>0</th>\n",
       "      <td>0</td>\n",
       "      <td>1000_0</td>\n",
       "      <td>112.95</td>\n",
       "      <td>2018-11-25</td>\n",
       "      <td>1000</td>\n",
       "      <td>11</td>\n",
       "    </tr>\n",
       "    <tr>\n",
       "      <th>1</th>\n",
       "      <td>1</td>\n",
       "      <td>1000_1</td>\n",
       "      <td>1052.81</td>\n",
       "      <td>2018-09-07</td>\n",
       "      <td>1000</td>\n",
       "      <td>9</td>\n",
       "    </tr>\n",
       "    <tr>\n",
       "      <th>2</th>\n",
       "      <td>2</td>\n",
       "      <td>1000_2</td>\n",
       "      <td>1197.26</td>\n",
       "      <td>2018-06-25</td>\n",
       "      <td>1000</td>\n",
       "      <td>6</td>\n",
       "    </tr>\n",
       "    <tr>\n",
       "      <th>3</th>\n",
       "      <td>3</td>\n",
       "      <td>1000_3</td>\n",
       "      <td>550.27</td>\n",
       "      <td>2018-08-22</td>\n",
       "      <td>1000</td>\n",
       "      <td>8</td>\n",
       "    </tr>\n",
       "    <tr>\n",
       "      <th>4</th>\n",
       "      <td>4</td>\n",
       "      <td>1000_4</td>\n",
       "      <td>302.56</td>\n",
       "      <td>2018-09-24</td>\n",
       "      <td>1000</td>\n",
       "      <td>9</td>\n",
       "    </tr>\n",
       "  </tbody>\n",
       "</table>\n",
       "</div>"
      ],
      "text/plain": [
       "   Unnamed: 0      id  mb_used session_date  user_id  month\n",
       "0           0  1000_0   112.95   2018-11-25     1000     11\n",
       "1           1  1000_1  1052.81   2018-09-07     1000      9\n",
       "2           2  1000_2  1197.26   2018-06-25     1000      6\n",
       "3           3  1000_3   550.27   2018-08-22     1000      8\n",
       "4           4  1000_4   302.56   2018-09-24     1000      9"
      ]
     },
     "execution_count": 19,
     "metadata": {},
     "output_type": "execute_result"
    }
   ],
   "source": [
    "internet['session_date'] = pd.to_datetime(internet['session_date'], format='%Y-%m-%d')\n",
    "internet['month'] = internet['session_date'].dt.month\n",
    "internet.head()"
   ]
  },
  {
   "cell_type": "code",
   "execution_count": 20,
   "metadata": {},
   "outputs": [
    {
     "data": {
      "text/plain": [
       "12    24799\n",
       "11    21817\n",
       "10    20009\n",
       "9     17512\n",
       "8     16092\n",
       "7     13548\n",
       "6     11057\n",
       "5      9408\n",
       "4      6511\n",
       "3      4885\n",
       "2      2641\n",
       "1      1117\n",
       "Name: month, dtype: int64"
      ]
     },
     "execution_count": 20,
     "metadata": {},
     "output_type": "execute_result"
    }
   ],
   "source": [
    "internet['month'].value_counts()"
   ]
  },
  {
   "cell_type": "code",
   "execution_count": 21,
   "metadata": {},
   "outputs": [
    {
     "data": {
      "text/plain": [
       "Series([], Name: mb_used, dtype: float64)"
      ]
     },
     "execution_count": 21,
     "metadata": {},
     "output_type": "execute_result"
    }
   ],
   "source": [
    "internet[internet['mb_used'] < 0]['mb_used'] #проверим на аномалии"
   ]
  },
  {
   "cell_type": "code",
   "execution_count": 22,
   "metadata": {},
   "outputs": [
    {
     "data": {
      "text/plain": [
       "Index(['id', 'mb_used', 'session_date', 'user_id', 'month'], dtype='object')"
      ]
     },
     "execution_count": 22,
     "metadata": {},
     "output_type": "execute_result"
    }
   ],
   "source": [
    "#удалим также столбец Unnamed: 0\n",
    "internet = internet.drop(['Unnamed: 0'],axis = 1)\n",
    "internet.columns"
   ]
  },
  {
   "cell_type": "markdown",
   "metadata": {},
   "source": [
    "### Предобработка таблицы Users"
   ]
  },
  {
   "cell_type": "code",
   "execution_count": 23,
   "metadata": {},
   "outputs": [
    {
     "name": "stdout",
     "output_type": "stream",
     "text": [
      "<class 'pandas.core.frame.DataFrame'>\n",
      "RangeIndex: 500 entries, 0 to 499\n",
      "Data columns (total 8 columns):\n",
      " #   Column      Non-Null Count  Dtype         \n",
      "---  ------      --------------  -----         \n",
      " 0   user_id     500 non-null    int64         \n",
      " 1   age         500 non-null    int64         \n",
      " 2   churn_date  38 non-null     datetime64[ns]\n",
      " 3   city        500 non-null    object        \n",
      " 4   first_name  500 non-null    object        \n",
      " 5   last_name   500 non-null    object        \n",
      " 6   reg_date    500 non-null    datetime64[ns]\n",
      " 7   tariff      500 non-null    object        \n",
      "dtypes: datetime64[ns](2), int64(2), object(4)\n",
      "memory usage: 31.4+ KB\n"
     ]
    }
   ],
   "source": [
    "#В таблице users приведем даты регистрации и прекращения пользования тарифом к типу datetime, \n",
    "#а также проверим на аномалии столбцы age и tariff \n",
    "users['reg_date'] = pd.to_datetime(users['reg_date'], format='%Y-%m-%d')\n",
    "users['churn_date'] = pd.to_datetime(users['churn_date'], format='%Y-%m-%d')\n",
    "users.info()"
   ]
  },
  {
   "cell_type": "code",
   "execution_count": 24,
   "metadata": {},
   "outputs": [
    {
     "data": {
      "text/plain": [
       "Series([], Name: age, dtype: int64)"
      ]
     },
     "execution_count": 24,
     "metadata": {},
     "output_type": "execute_result"
    }
   ],
   "source": [
    "users[users['age'] < 18]['age'] #проверим на аномалии"
   ]
  },
  {
   "cell_type": "code",
   "execution_count": 25,
   "metadata": {},
   "outputs": [
    {
     "data": {
      "text/plain": [
       "smart    351\n",
       "ultra    149\n",
       "Name: tariff, dtype: int64"
      ]
     },
     "execution_count": 25,
     "metadata": {},
     "output_type": "execute_result"
    }
   ],
   "source": [
    "users['tariff'].value_counts()"
   ]
  },
  {
   "cell_type": "code",
   "execution_count": 26,
   "metadata": {},
   "outputs": [
    {
     "data": {
      "text/plain": [
       "Москва             99\n",
       "Санкт-Петербург    39\n",
       "Новосибирск        16\n",
       "Омск               14\n",
       "Казань             14\n",
       "                   ..\n",
       "Химки               1\n",
       "Архангельск         1\n",
       "Подольск            1\n",
       "Нижневартовск       1\n",
       "Иваново             1\n",
       "Name: city, Length: 76, dtype: int64"
      ]
     },
     "execution_count": 26,
     "metadata": {},
     "output_type": "execute_result"
    }
   ],
   "source": [
    "users['city'].value_counts()"
   ]
  },
  {
   "cell_type": "code",
   "execution_count": 27,
   "metadata": {},
   "outputs": [
    {
     "name": "stdout",
     "output_type": "stream",
     "text": [
      "<class 'pandas.core.frame.DataFrame'>\n",
      "RangeIndex: 500 entries, 0 to 499\n",
      "Data columns (total 8 columns):\n",
      " #   Column      Non-Null Count  Dtype         \n",
      "---  ------      --------------  -----         \n",
      " 0   user_id     500 non-null    int64         \n",
      " 1   age         500 non-null    int64         \n",
      " 2   churn_date  38 non-null     datetime64[ns]\n",
      " 3   city        500 non-null    object        \n",
      " 4   first_name  500 non-null    object        \n",
      " 5   last_name   500 non-null    object        \n",
      " 6   reg_date    500 non-null    datetime64[ns]\n",
      " 7   tariff      500 non-null    object        \n",
      "dtypes: datetime64[ns](2), int64(2), object(4)\n",
      "memory usage: 31.4+ KB\n"
     ]
    }
   ],
   "source": [
    "users.info()"
   ]
  },
  {
   "cell_type": "code",
   "execution_count": 28,
   "metadata": {},
   "outputs": [
    {
     "data": {
      "text/plain": [
       "Series([], Name: reg_date, dtype: datetime64[ns])"
      ]
     },
     "execution_count": 28,
     "metadata": {},
     "output_type": "execute_result"
    }
   ],
   "source": [
    "# Проверим, нет ли случаев, когда дата отказа от тарифа раньше даты регистрации\n",
    "users[users['churn_date'] < users['reg_date']]['reg_date'] # "
   ]
  },
  {
   "cell_type": "markdown",
   "metadata": {},
   "source": [
    "### Проверка на наличие дубликатов"
   ]
  },
  {
   "cell_type": "markdown",
   "metadata": {},
   "source": [
    "Проверим получившиеся таблицы на полные дубликаты."
   ]
  },
  {
   "cell_type": "code",
   "execution_count": 29,
   "metadata": {},
   "outputs": [
    {
     "data": {
      "text/plain": [
       "0"
      ]
     },
     "metadata": {},
     "output_type": "display_data"
    },
    {
     "data": {
      "text/plain": [
       "0"
      ]
     },
     "metadata": {},
     "output_type": "display_data"
    },
    {
     "data": {
      "text/plain": [
       "0"
      ]
     },
     "metadata": {},
     "output_type": "display_data"
    },
    {
     "data": {
      "text/plain": [
       "0"
      ]
     },
     "metadata": {},
     "output_type": "display_data"
    }
   ],
   "source": [
    "display(calls.duplicated().sum()) #используем метод duplicated для определения наличия дубликатов\n",
    "display(messages.duplicated().sum())\n",
    "display(internet.duplicated().sum())\n",
    "display(users.duplicated().sum())"
   ]
  },
  {
   "cell_type": "markdown",
   "metadata": {},
   "source": [
    "Дубликатов нет, можем перейти к следующему этапу. Проверить на неявные дубликаты?"
   ]
  },
  {
   "cell_type": "markdown",
   "metadata": {},
   "source": [
    "## Расчёты и добавление результатов в таблицу"
   ]
  },
  {
   "cell_type": "markdown",
   "metadata": {},
   "source": [
    "Посчитайте для каждого пользователя:\n",
    "- количество сделанных звонков и израсходованных минут разговора по месяцам;\n",
    "- количество отправленных сообщений по месяцам;\n",
    "- объем израсходованного интернет-трафика по месяцам;\n",
    "- помесячную выручку с каждого пользователя (вычтите бесплатный лимит из суммарного количества звонков, сообщений и интернет-трафика; остаток умножьте на значение из тарифного плана; прибавьте абонентскую плату, соответствующую тарифному плану)."
   ]
  },
  {
   "cell_type": "markdown",
   "metadata": {},
   "source": [
    "### Расчет израсходованных минут по месяцам"
   ]
  },
  {
   "cell_type": "code",
   "execution_count": 30,
   "metadata": {},
   "outputs": [],
   "source": [
    "#Cгруппируем таблицу calls по пользователям и месяцам, чтобы посчитать количество сделанных звонков и израсходованных минут \n",
    "#разговора по месяцам\n",
    "calls_grouped = calls.groupby(by = ['user_id','month']).agg({'duration':['sum','count']})\n",
    "calls_grouped.columns  = ['month_calls_duration','month_calls_qty']"
   ]
  },
  {
   "cell_type": "code",
   "execution_count": 31,
   "metadata": {},
   "outputs": [
    {
     "data": {
      "text/html": [
       "<div>\n",
       "<style scoped>\n",
       "    .dataframe tbody tr th:only-of-type {\n",
       "        vertical-align: middle;\n",
       "    }\n",
       "\n",
       "    .dataframe tbody tr th {\n",
       "        vertical-align: top;\n",
       "    }\n",
       "\n",
       "    .dataframe thead th {\n",
       "        text-align: right;\n",
       "    }\n",
       "</style>\n",
       "<table border=\"1\" class=\"dataframe\">\n",
       "  <thead>\n",
       "    <tr style=\"text-align: right;\">\n",
       "      <th></th>\n",
       "      <th></th>\n",
       "      <th>month_calls_duration</th>\n",
       "      <th>month_calls_qty</th>\n",
       "    </tr>\n",
       "    <tr>\n",
       "      <th>user_id</th>\n",
       "      <th>month</th>\n",
       "      <th></th>\n",
       "      <th></th>\n",
       "    </tr>\n",
       "  </thead>\n",
       "  <tbody>\n",
       "    <tr>\n",
       "      <th rowspan=\"8\" valign=\"top\">1000</th>\n",
       "      <th>5</th>\n",
       "      <td>159</td>\n",
       "      <td>22</td>\n",
       "    </tr>\n",
       "    <tr>\n",
       "      <th>6</th>\n",
       "      <td>172</td>\n",
       "      <td>43</td>\n",
       "    </tr>\n",
       "    <tr>\n",
       "      <th>7</th>\n",
       "      <td>340</td>\n",
       "      <td>47</td>\n",
       "    </tr>\n",
       "    <tr>\n",
       "      <th>8</th>\n",
       "      <td>408</td>\n",
       "      <td>52</td>\n",
       "    </tr>\n",
       "    <tr>\n",
       "      <th>9</th>\n",
       "      <td>466</td>\n",
       "      <td>58</td>\n",
       "    </tr>\n",
       "    <tr>\n",
       "      <th>10</th>\n",
       "      <td>350</td>\n",
       "      <td>57</td>\n",
       "    </tr>\n",
       "    <tr>\n",
       "      <th>11</th>\n",
       "      <td>338</td>\n",
       "      <td>43</td>\n",
       "    </tr>\n",
       "    <tr>\n",
       "      <th>12</th>\n",
       "      <td>333</td>\n",
       "      <td>46</td>\n",
       "    </tr>\n",
       "    <tr>\n",
       "      <th rowspan=\"2\" valign=\"top\">1001</th>\n",
       "      <th>11</th>\n",
       "      <td>430</td>\n",
       "      <td>59</td>\n",
       "    </tr>\n",
       "    <tr>\n",
       "      <th>12</th>\n",
       "      <td>414</td>\n",
       "      <td>63</td>\n",
       "    </tr>\n",
       "  </tbody>\n",
       "</table>\n",
       "</div>"
      ],
      "text/plain": [
       "               month_calls_duration  month_calls_qty\n",
       "user_id month                                       \n",
       "1000    5                       159               22\n",
       "        6                       172               43\n",
       "        7                       340               47\n",
       "        8                       408               52\n",
       "        9                       466               58\n",
       "        10                      350               57\n",
       "        11                      338               43\n",
       "        12                      333               46\n",
       "1001    11                      430               59\n",
       "        12                      414               63"
      ]
     },
     "execution_count": 31,
     "metadata": {},
     "output_type": "execute_result"
    }
   ],
   "source": [
    "calls_grouped.head(10)"
   ]
  },
  {
   "cell_type": "markdown",
   "metadata": {},
   "source": [
    "### Расчет израсходованных сообщений по месяцам"
   ]
  },
  {
   "cell_type": "code",
   "execution_count": 32,
   "metadata": {},
   "outputs": [
    {
     "data": {
      "text/html": [
       "<div>\n",
       "<style scoped>\n",
       "    .dataframe tbody tr th:only-of-type {\n",
       "        vertical-align: middle;\n",
       "    }\n",
       "\n",
       "    .dataframe tbody tr th {\n",
       "        vertical-align: top;\n",
       "    }\n",
       "\n",
       "    .dataframe thead th {\n",
       "        text-align: right;\n",
       "    }\n",
       "</style>\n",
       "<table border=\"1\" class=\"dataframe\">\n",
       "  <thead>\n",
       "    <tr style=\"text-align: right;\">\n",
       "      <th></th>\n",
       "      <th></th>\n",
       "      <th>month_messages</th>\n",
       "    </tr>\n",
       "    <tr>\n",
       "      <th>user_id</th>\n",
       "      <th>month</th>\n",
       "      <th></th>\n",
       "    </tr>\n",
       "  </thead>\n",
       "  <tbody>\n",
       "    <tr>\n",
       "      <th rowspan=\"8\" valign=\"top\">1000</th>\n",
       "      <th>5</th>\n",
       "      <td>22</td>\n",
       "    </tr>\n",
       "    <tr>\n",
       "      <th>6</th>\n",
       "      <td>60</td>\n",
       "    </tr>\n",
       "    <tr>\n",
       "      <th>7</th>\n",
       "      <td>75</td>\n",
       "    </tr>\n",
       "    <tr>\n",
       "      <th>8</th>\n",
       "      <td>81</td>\n",
       "    </tr>\n",
       "    <tr>\n",
       "      <th>9</th>\n",
       "      <td>57</td>\n",
       "    </tr>\n",
       "    <tr>\n",
       "      <th>10</th>\n",
       "      <td>73</td>\n",
       "    </tr>\n",
       "    <tr>\n",
       "      <th>11</th>\n",
       "      <td>58</td>\n",
       "    </tr>\n",
       "    <tr>\n",
       "      <th>12</th>\n",
       "      <td>70</td>\n",
       "    </tr>\n",
       "    <tr>\n",
       "      <th rowspan=\"2\" valign=\"top\">1002</th>\n",
       "      <th>6</th>\n",
       "      <td>4</td>\n",
       "    </tr>\n",
       "    <tr>\n",
       "      <th>7</th>\n",
       "      <td>11</td>\n",
       "    </tr>\n",
       "  </tbody>\n",
       "</table>\n",
       "</div>"
      ],
      "text/plain": [
       "               month_messages\n",
       "user_id month                \n",
       "1000    5                  22\n",
       "        6                  60\n",
       "        7                  75\n",
       "        8                  81\n",
       "        9                  57\n",
       "        10                 73\n",
       "        11                 58\n",
       "        12                 70\n",
       "1002    6                   4\n",
       "        7                  11"
      ]
     },
     "execution_count": 32,
     "metadata": {},
     "output_type": "execute_result"
    }
   ],
   "source": [
    "#Cгруппируем таблицу messages по пользователям и месяцам, чтобы посчитать количество отправленных сообщений по месяцам \n",
    "messages_grouped = messages.groupby(by = ['user_id','month']).agg({'id':'count'})\n",
    "messages_grouped.columns  = ['month_messages']\n",
    "messages_grouped.head(10)"
   ]
  },
  {
   "cell_type": "markdown",
   "metadata": {},
   "source": [
    "### Расчет интернет-траффика по месяцам"
   ]
  },
  {
   "cell_type": "code",
   "execution_count": 33,
   "metadata": {},
   "outputs": [
    {
     "data": {
      "text/html": [
       "<div>\n",
       "<style scoped>\n",
       "    .dataframe tbody tr th:only-of-type {\n",
       "        vertical-align: middle;\n",
       "    }\n",
       "\n",
       "    .dataframe tbody tr th {\n",
       "        vertical-align: top;\n",
       "    }\n",
       "\n",
       "    .dataframe thead th {\n",
       "        text-align: right;\n",
       "    }\n",
       "</style>\n",
       "<table border=\"1\" class=\"dataframe\">\n",
       "  <thead>\n",
       "    <tr style=\"text-align: right;\">\n",
       "      <th></th>\n",
       "      <th></th>\n",
       "      <th>month_internet</th>\n",
       "    </tr>\n",
       "    <tr>\n",
       "      <th>user_id</th>\n",
       "      <th>month</th>\n",
       "      <th></th>\n",
       "    </tr>\n",
       "  </thead>\n",
       "  <tbody>\n",
       "    <tr>\n",
       "      <th rowspan=\"8\" valign=\"top\">1000</th>\n",
       "      <th>5</th>\n",
       "      <td>2253.49</td>\n",
       "    </tr>\n",
       "    <tr>\n",
       "      <th>6</th>\n",
       "      <td>23233.77</td>\n",
       "    </tr>\n",
       "    <tr>\n",
       "      <th>7</th>\n",
       "      <td>14003.64</td>\n",
       "    </tr>\n",
       "    <tr>\n",
       "      <th>8</th>\n",
       "      <td>14055.93</td>\n",
       "    </tr>\n",
       "    <tr>\n",
       "      <th>9</th>\n",
       "      <td>14568.91</td>\n",
       "    </tr>\n",
       "    <tr>\n",
       "      <th>10</th>\n",
       "      <td>14702.49</td>\n",
       "    </tr>\n",
       "    <tr>\n",
       "      <th>11</th>\n",
       "      <td>14756.47</td>\n",
       "    </tr>\n",
       "    <tr>\n",
       "      <th>12</th>\n",
       "      <td>9817.61</td>\n",
       "    </tr>\n",
       "    <tr>\n",
       "      <th rowspan=\"2\" valign=\"top\">1001</th>\n",
       "      <th>11</th>\n",
       "      <td>18429.34</td>\n",
       "    </tr>\n",
       "    <tr>\n",
       "      <th>12</th>\n",
       "      <td>14036.66</td>\n",
       "    </tr>\n",
       "  </tbody>\n",
       "</table>\n",
       "</div>"
      ],
      "text/plain": [
       "               month_internet\n",
       "user_id month                \n",
       "1000    5             2253.49\n",
       "        6            23233.77\n",
       "        7            14003.64\n",
       "        8            14055.93\n",
       "        9            14568.91\n",
       "        10           14702.49\n",
       "        11           14756.47\n",
       "        12            9817.61\n",
       "1001    11           18429.34\n",
       "        12           14036.66"
      ]
     },
     "execution_count": 33,
     "metadata": {},
     "output_type": "execute_result"
    }
   ],
   "source": [
    "#Cгруппируем таблицу internet по пользователям и месяцам, чтобы посчитать объем израсходованного интернет-трафика по месяцам\n",
    "internet_grouped = internet.groupby(by = ['user_id','month']).agg({'mb_used':'sum'})\n",
    "internet_grouped.columns  = ['month_internet']\n",
    "internet_grouped.head(10)"
   ]
  },
  {
   "cell_type": "markdown",
   "metadata": {},
   "source": [
    "### Расчет ежемесячной выручки"
   ]
  },
  {
   "cell_type": "markdown",
   "metadata": {},
   "source": [
    "Теперь рассчитаем помесячную выручку с каждого пользователя (вычтите бесплатный лимит из суммарного количества звонков, сообщений и интернет-трафика; остаток умножьте на значение из тарифного плана; прибавьте абонентскую плату, соответствующую тарифному плану). Для этого нам нужно объединить агрегированные данные по интеренету, звонкам и сообщениям."
   ]
  },
  {
   "cell_type": "code",
   "execution_count": 34,
   "metadata": {},
   "outputs": [],
   "source": [
    "revenue_users = calls_grouped.merge(messages_grouped, on=['user_id','month'], how='outer').reset_index()\n",
    "revenue_users = revenue_users.merge(internet_grouped, on=['user_id','month'], how='outer')"
   ]
  },
  {
   "cell_type": "code",
   "execution_count": 35,
   "metadata": {},
   "outputs": [
    {
     "data": {
      "text/html": [
       "<div>\n",
       "<style scoped>\n",
       "    .dataframe tbody tr th:only-of-type {\n",
       "        vertical-align: middle;\n",
       "    }\n",
       "\n",
       "    .dataframe tbody tr th {\n",
       "        vertical-align: top;\n",
       "    }\n",
       "\n",
       "    .dataframe thead th {\n",
       "        text-align: right;\n",
       "    }\n",
       "</style>\n",
       "<table border=\"1\" class=\"dataframe\">\n",
       "  <thead>\n",
       "    <tr style=\"text-align: right;\">\n",
       "      <th></th>\n",
       "      <th>user_id</th>\n",
       "      <th>month</th>\n",
       "      <th>month_calls_duration</th>\n",
       "      <th>month_calls_qty</th>\n",
       "      <th>month_messages</th>\n",
       "      <th>month_internet</th>\n",
       "    </tr>\n",
       "  </thead>\n",
       "  <tbody>\n",
       "    <tr>\n",
       "      <th>0</th>\n",
       "      <td>1000</td>\n",
       "      <td>5</td>\n",
       "      <td>159.0</td>\n",
       "      <td>22.0</td>\n",
       "      <td>22.0</td>\n",
       "      <td>2253.49</td>\n",
       "    </tr>\n",
       "    <tr>\n",
       "      <th>1</th>\n",
       "      <td>1000</td>\n",
       "      <td>6</td>\n",
       "      <td>172.0</td>\n",
       "      <td>43.0</td>\n",
       "      <td>60.0</td>\n",
       "      <td>23233.77</td>\n",
       "    </tr>\n",
       "    <tr>\n",
       "      <th>2</th>\n",
       "      <td>1000</td>\n",
       "      <td>7</td>\n",
       "      <td>340.0</td>\n",
       "      <td>47.0</td>\n",
       "      <td>75.0</td>\n",
       "      <td>14003.64</td>\n",
       "    </tr>\n",
       "    <tr>\n",
       "      <th>3</th>\n",
       "      <td>1000</td>\n",
       "      <td>8</td>\n",
       "      <td>408.0</td>\n",
       "      <td>52.0</td>\n",
       "      <td>81.0</td>\n",
       "      <td>14055.93</td>\n",
       "    </tr>\n",
       "    <tr>\n",
       "      <th>4</th>\n",
       "      <td>1000</td>\n",
       "      <td>9</td>\n",
       "      <td>466.0</td>\n",
       "      <td>58.0</td>\n",
       "      <td>57.0</td>\n",
       "      <td>14568.91</td>\n",
       "    </tr>\n",
       "    <tr>\n",
       "      <th>5</th>\n",
       "      <td>1000</td>\n",
       "      <td>10</td>\n",
       "      <td>350.0</td>\n",
       "      <td>57.0</td>\n",
       "      <td>73.0</td>\n",
       "      <td>14702.49</td>\n",
       "    </tr>\n",
       "    <tr>\n",
       "      <th>6</th>\n",
       "      <td>1000</td>\n",
       "      <td>11</td>\n",
       "      <td>338.0</td>\n",
       "      <td>43.0</td>\n",
       "      <td>58.0</td>\n",
       "      <td>14756.47</td>\n",
       "    </tr>\n",
       "    <tr>\n",
       "      <th>7</th>\n",
       "      <td>1000</td>\n",
       "      <td>12</td>\n",
       "      <td>333.0</td>\n",
       "      <td>46.0</td>\n",
       "      <td>70.0</td>\n",
       "      <td>9817.61</td>\n",
       "    </tr>\n",
       "    <tr>\n",
       "      <th>8</th>\n",
       "      <td>1001</td>\n",
       "      <td>11</td>\n",
       "      <td>430.0</td>\n",
       "      <td>59.0</td>\n",
       "      <td>NaN</td>\n",
       "      <td>18429.34</td>\n",
       "    </tr>\n",
       "    <tr>\n",
       "      <th>9</th>\n",
       "      <td>1001</td>\n",
       "      <td>12</td>\n",
       "      <td>414.0</td>\n",
       "      <td>63.0</td>\n",
       "      <td>NaN</td>\n",
       "      <td>14036.66</td>\n",
       "    </tr>\n",
       "  </tbody>\n",
       "</table>\n",
       "</div>"
      ],
      "text/plain": [
       "   user_id  month  month_calls_duration  month_calls_qty  month_messages  \\\n",
       "0     1000      5                 159.0             22.0            22.0   \n",
       "1     1000      6                 172.0             43.0            60.0   \n",
       "2     1000      7                 340.0             47.0            75.0   \n",
       "3     1000      8                 408.0             52.0            81.0   \n",
       "4     1000      9                 466.0             58.0            57.0   \n",
       "5     1000     10                 350.0             57.0            73.0   \n",
       "6     1000     11                 338.0             43.0            58.0   \n",
       "7     1000     12                 333.0             46.0            70.0   \n",
       "8     1001     11                 430.0             59.0             NaN   \n",
       "9     1001     12                 414.0             63.0             NaN   \n",
       "\n",
       "   month_internet  \n",
       "0         2253.49  \n",
       "1        23233.77  \n",
       "2        14003.64  \n",
       "3        14055.93  \n",
       "4        14568.91  \n",
       "5        14702.49  \n",
       "6        14756.47  \n",
       "7         9817.61  \n",
       "8        18429.34  \n",
       "9        14036.66  "
      ]
     },
     "execution_count": 35,
     "metadata": {},
     "output_type": "execute_result"
    }
   ],
   "source": [
    "revenue_users.head(10)"
   ]
  },
  {
   "cell_type": "code",
   "execution_count": 36,
   "metadata": {},
   "outputs": [
    {
     "data": {
      "text/html": [
       "<div>\n",
       "<style scoped>\n",
       "    .dataframe tbody tr th:only-of-type {\n",
       "        vertical-align: middle;\n",
       "    }\n",
       "\n",
       "    .dataframe tbody tr th {\n",
       "        vertical-align: top;\n",
       "    }\n",
       "\n",
       "    .dataframe thead th {\n",
       "        text-align: right;\n",
       "    }\n",
       "</style>\n",
       "<table border=\"1\" class=\"dataframe\">\n",
       "  <thead>\n",
       "    <tr style=\"text-align: right;\">\n",
       "      <th></th>\n",
       "      <th>user_id</th>\n",
       "      <th>month</th>\n",
       "      <th>month_calls_duration</th>\n",
       "      <th>month_calls_qty</th>\n",
       "      <th>month_messages</th>\n",
       "      <th>month_internet</th>\n",
       "    </tr>\n",
       "  </thead>\n",
       "  <tbody>\n",
       "    <tr>\n",
       "      <th>0</th>\n",
       "      <td>1000</td>\n",
       "      <td>5</td>\n",
       "      <td>159.0</td>\n",
       "      <td>22.0</td>\n",
       "      <td>22.0</td>\n",
       "      <td>2253.49</td>\n",
       "    </tr>\n",
       "    <tr>\n",
       "      <th>1</th>\n",
       "      <td>1000</td>\n",
       "      <td>6</td>\n",
       "      <td>172.0</td>\n",
       "      <td>43.0</td>\n",
       "      <td>60.0</td>\n",
       "      <td>23233.77</td>\n",
       "    </tr>\n",
       "    <tr>\n",
       "      <th>2</th>\n",
       "      <td>1000</td>\n",
       "      <td>7</td>\n",
       "      <td>340.0</td>\n",
       "      <td>47.0</td>\n",
       "      <td>75.0</td>\n",
       "      <td>14003.64</td>\n",
       "    </tr>\n",
       "    <tr>\n",
       "      <th>3</th>\n",
       "      <td>1000</td>\n",
       "      <td>8</td>\n",
       "      <td>408.0</td>\n",
       "      <td>52.0</td>\n",
       "      <td>81.0</td>\n",
       "      <td>14055.93</td>\n",
       "    </tr>\n",
       "    <tr>\n",
       "      <th>4</th>\n",
       "      <td>1000</td>\n",
       "      <td>9</td>\n",
       "      <td>466.0</td>\n",
       "      <td>58.0</td>\n",
       "      <td>57.0</td>\n",
       "      <td>14568.91</td>\n",
       "    </tr>\n",
       "    <tr>\n",
       "      <th>5</th>\n",
       "      <td>1000</td>\n",
       "      <td>10</td>\n",
       "      <td>350.0</td>\n",
       "      <td>57.0</td>\n",
       "      <td>73.0</td>\n",
       "      <td>14702.49</td>\n",
       "    </tr>\n",
       "    <tr>\n",
       "      <th>6</th>\n",
       "      <td>1000</td>\n",
       "      <td>11</td>\n",
       "      <td>338.0</td>\n",
       "      <td>43.0</td>\n",
       "      <td>58.0</td>\n",
       "      <td>14756.47</td>\n",
       "    </tr>\n",
       "    <tr>\n",
       "      <th>7</th>\n",
       "      <td>1000</td>\n",
       "      <td>12</td>\n",
       "      <td>333.0</td>\n",
       "      <td>46.0</td>\n",
       "      <td>70.0</td>\n",
       "      <td>9817.61</td>\n",
       "    </tr>\n",
       "    <tr>\n",
       "      <th>8</th>\n",
       "      <td>1001</td>\n",
       "      <td>11</td>\n",
       "      <td>430.0</td>\n",
       "      <td>59.0</td>\n",
       "      <td>0.0</td>\n",
       "      <td>18429.34</td>\n",
       "    </tr>\n",
       "    <tr>\n",
       "      <th>9</th>\n",
       "      <td>1001</td>\n",
       "      <td>12</td>\n",
       "      <td>414.0</td>\n",
       "      <td>63.0</td>\n",
       "      <td>0.0</td>\n",
       "      <td>14036.66</td>\n",
       "    </tr>\n",
       "  </tbody>\n",
       "</table>\n",
       "</div>"
      ],
      "text/plain": [
       "   user_id  month  month_calls_duration  month_calls_qty  month_messages  \\\n",
       "0     1000      5                 159.0             22.0            22.0   \n",
       "1     1000      6                 172.0             43.0            60.0   \n",
       "2     1000      7                 340.0             47.0            75.0   \n",
       "3     1000      8                 408.0             52.0            81.0   \n",
       "4     1000      9                 466.0             58.0            57.0   \n",
       "5     1000     10                 350.0             57.0            73.0   \n",
       "6     1000     11                 338.0             43.0            58.0   \n",
       "7     1000     12                 333.0             46.0            70.0   \n",
       "8     1001     11                 430.0             59.0             0.0   \n",
       "9     1001     12                 414.0             63.0             0.0   \n",
       "\n",
       "   month_internet  \n",
       "0         2253.49  \n",
       "1        23233.77  \n",
       "2        14003.64  \n",
       "3        14055.93  \n",
       "4        14568.91  \n",
       "5        14702.49  \n",
       "6        14756.47  \n",
       "7         9817.61  \n",
       "8        18429.34  \n",
       "9        14036.66  "
      ]
     },
     "execution_count": 36,
     "metadata": {},
     "output_type": "execute_result"
    }
   ],
   "source": [
    "#Заменим пропущенные значения в столбцах полученной таблицы на 0, так как они означают. что какие-то функции не использовались\n",
    "revenue_users = revenue_users.fillna(0)\n",
    "revenue_users.head(10)"
   ]
  },
  {
   "cell_type": "code",
   "execution_count": 37,
   "metadata": {},
   "outputs": [],
   "source": [
    "#Для расчета выручки по пользователям нам также понадобится информация о том, какой тариф они используют и информация по тарифу\n",
    "#Из таблицы users подтянем тариф, а из таблицы tariffs информацию по тарифу\n",
    "revenue_users = revenue_users.merge(users, on=['user_id'], how='left')"
   ]
  },
  {
   "cell_type": "code",
   "execution_count": 38,
   "metadata": {},
   "outputs": [
    {
     "data": {
      "text/html": [
       "<div>\n",
       "<style scoped>\n",
       "    .dataframe tbody tr th:only-of-type {\n",
       "        vertical-align: middle;\n",
       "    }\n",
       "\n",
       "    .dataframe tbody tr th {\n",
       "        vertical-align: top;\n",
       "    }\n",
       "\n",
       "    .dataframe thead th {\n",
       "        text-align: right;\n",
       "    }\n",
       "</style>\n",
       "<table border=\"1\" class=\"dataframe\">\n",
       "  <thead>\n",
       "    <tr style=\"text-align: right;\">\n",
       "      <th></th>\n",
       "      <th>user_id</th>\n",
       "      <th>month</th>\n",
       "      <th>month_calls_duration</th>\n",
       "      <th>month_calls_qty</th>\n",
       "      <th>month_messages</th>\n",
       "      <th>month_internet</th>\n",
       "      <th>age</th>\n",
       "      <th>churn_date</th>\n",
       "      <th>city</th>\n",
       "      <th>first_name</th>\n",
       "      <th>last_name</th>\n",
       "      <th>reg_date</th>\n",
       "      <th>tariff</th>\n",
       "    </tr>\n",
       "  </thead>\n",
       "  <tbody>\n",
       "    <tr>\n",
       "      <th>0</th>\n",
       "      <td>1000</td>\n",
       "      <td>5</td>\n",
       "      <td>159.0</td>\n",
       "      <td>22.0</td>\n",
       "      <td>22.0</td>\n",
       "      <td>2253.49</td>\n",
       "      <td>52</td>\n",
       "      <td>NaT</td>\n",
       "      <td>Краснодар</td>\n",
       "      <td>Рафаил</td>\n",
       "      <td>Верещагин</td>\n",
       "      <td>2018-05-25</td>\n",
       "      <td>ultra</td>\n",
       "    </tr>\n",
       "    <tr>\n",
       "      <th>1</th>\n",
       "      <td>1000</td>\n",
       "      <td>6</td>\n",
       "      <td>172.0</td>\n",
       "      <td>43.0</td>\n",
       "      <td>60.0</td>\n",
       "      <td>23233.77</td>\n",
       "      <td>52</td>\n",
       "      <td>NaT</td>\n",
       "      <td>Краснодар</td>\n",
       "      <td>Рафаил</td>\n",
       "      <td>Верещагин</td>\n",
       "      <td>2018-05-25</td>\n",
       "      <td>ultra</td>\n",
       "    </tr>\n",
       "    <tr>\n",
       "      <th>2</th>\n",
       "      <td>1000</td>\n",
       "      <td>7</td>\n",
       "      <td>340.0</td>\n",
       "      <td>47.0</td>\n",
       "      <td>75.0</td>\n",
       "      <td>14003.64</td>\n",
       "      <td>52</td>\n",
       "      <td>NaT</td>\n",
       "      <td>Краснодар</td>\n",
       "      <td>Рафаил</td>\n",
       "      <td>Верещагин</td>\n",
       "      <td>2018-05-25</td>\n",
       "      <td>ultra</td>\n",
       "    </tr>\n",
       "    <tr>\n",
       "      <th>3</th>\n",
       "      <td>1000</td>\n",
       "      <td>8</td>\n",
       "      <td>408.0</td>\n",
       "      <td>52.0</td>\n",
       "      <td>81.0</td>\n",
       "      <td>14055.93</td>\n",
       "      <td>52</td>\n",
       "      <td>NaT</td>\n",
       "      <td>Краснодар</td>\n",
       "      <td>Рафаил</td>\n",
       "      <td>Верещагин</td>\n",
       "      <td>2018-05-25</td>\n",
       "      <td>ultra</td>\n",
       "    </tr>\n",
       "    <tr>\n",
       "      <th>4</th>\n",
       "      <td>1000</td>\n",
       "      <td>9</td>\n",
       "      <td>466.0</td>\n",
       "      <td>58.0</td>\n",
       "      <td>57.0</td>\n",
       "      <td>14568.91</td>\n",
       "      <td>52</td>\n",
       "      <td>NaT</td>\n",
       "      <td>Краснодар</td>\n",
       "      <td>Рафаил</td>\n",
       "      <td>Верещагин</td>\n",
       "      <td>2018-05-25</td>\n",
       "      <td>ultra</td>\n",
       "    </tr>\n",
       "    <tr>\n",
       "      <th>5</th>\n",
       "      <td>1000</td>\n",
       "      <td>10</td>\n",
       "      <td>350.0</td>\n",
       "      <td>57.0</td>\n",
       "      <td>73.0</td>\n",
       "      <td>14702.49</td>\n",
       "      <td>52</td>\n",
       "      <td>NaT</td>\n",
       "      <td>Краснодар</td>\n",
       "      <td>Рафаил</td>\n",
       "      <td>Верещагин</td>\n",
       "      <td>2018-05-25</td>\n",
       "      <td>ultra</td>\n",
       "    </tr>\n",
       "    <tr>\n",
       "      <th>6</th>\n",
       "      <td>1000</td>\n",
       "      <td>11</td>\n",
       "      <td>338.0</td>\n",
       "      <td>43.0</td>\n",
       "      <td>58.0</td>\n",
       "      <td>14756.47</td>\n",
       "      <td>52</td>\n",
       "      <td>NaT</td>\n",
       "      <td>Краснодар</td>\n",
       "      <td>Рафаил</td>\n",
       "      <td>Верещагин</td>\n",
       "      <td>2018-05-25</td>\n",
       "      <td>ultra</td>\n",
       "    </tr>\n",
       "    <tr>\n",
       "      <th>7</th>\n",
       "      <td>1000</td>\n",
       "      <td>12</td>\n",
       "      <td>333.0</td>\n",
       "      <td>46.0</td>\n",
       "      <td>70.0</td>\n",
       "      <td>9817.61</td>\n",
       "      <td>52</td>\n",
       "      <td>NaT</td>\n",
       "      <td>Краснодар</td>\n",
       "      <td>Рафаил</td>\n",
       "      <td>Верещагин</td>\n",
       "      <td>2018-05-25</td>\n",
       "      <td>ultra</td>\n",
       "    </tr>\n",
       "    <tr>\n",
       "      <th>8</th>\n",
       "      <td>1001</td>\n",
       "      <td>11</td>\n",
       "      <td>430.0</td>\n",
       "      <td>59.0</td>\n",
       "      <td>0.0</td>\n",
       "      <td>18429.34</td>\n",
       "      <td>41</td>\n",
       "      <td>NaT</td>\n",
       "      <td>Москва</td>\n",
       "      <td>Иван</td>\n",
       "      <td>Ежов</td>\n",
       "      <td>2018-11-01</td>\n",
       "      <td>smart</td>\n",
       "    </tr>\n",
       "    <tr>\n",
       "      <th>9</th>\n",
       "      <td>1001</td>\n",
       "      <td>12</td>\n",
       "      <td>414.0</td>\n",
       "      <td>63.0</td>\n",
       "      <td>0.0</td>\n",
       "      <td>14036.66</td>\n",
       "      <td>41</td>\n",
       "      <td>NaT</td>\n",
       "      <td>Москва</td>\n",
       "      <td>Иван</td>\n",
       "      <td>Ежов</td>\n",
       "      <td>2018-11-01</td>\n",
       "      <td>smart</td>\n",
       "    </tr>\n",
       "  </tbody>\n",
       "</table>\n",
       "</div>"
      ],
      "text/plain": [
       "   user_id  month  month_calls_duration  month_calls_qty  month_messages  \\\n",
       "0     1000      5                 159.0             22.0            22.0   \n",
       "1     1000      6                 172.0             43.0            60.0   \n",
       "2     1000      7                 340.0             47.0            75.0   \n",
       "3     1000      8                 408.0             52.0            81.0   \n",
       "4     1000      9                 466.0             58.0            57.0   \n",
       "5     1000     10                 350.0             57.0            73.0   \n",
       "6     1000     11                 338.0             43.0            58.0   \n",
       "7     1000     12                 333.0             46.0            70.0   \n",
       "8     1001     11                 430.0             59.0             0.0   \n",
       "9     1001     12                 414.0             63.0             0.0   \n",
       "\n",
       "   month_internet  age churn_date       city first_name  last_name   reg_date  \\\n",
       "0         2253.49   52        NaT  Краснодар     Рафаил  Верещагин 2018-05-25   \n",
       "1        23233.77   52        NaT  Краснодар     Рафаил  Верещагин 2018-05-25   \n",
       "2        14003.64   52        NaT  Краснодар     Рафаил  Верещагин 2018-05-25   \n",
       "3        14055.93   52        NaT  Краснодар     Рафаил  Верещагин 2018-05-25   \n",
       "4        14568.91   52        NaT  Краснодар     Рафаил  Верещагин 2018-05-25   \n",
       "5        14702.49   52        NaT  Краснодар     Рафаил  Верещагин 2018-05-25   \n",
       "6        14756.47   52        NaT  Краснодар     Рафаил  Верещагин 2018-05-25   \n",
       "7         9817.61   52        NaT  Краснодар     Рафаил  Верещагин 2018-05-25   \n",
       "8        18429.34   41        NaT     Москва       Иван       Ежов 2018-11-01   \n",
       "9        14036.66   41        NaT     Москва       Иван       Ежов 2018-11-01   \n",
       "\n",
       "  tariff  \n",
       "0  ultra  \n",
       "1  ultra  \n",
       "2  ultra  \n",
       "3  ultra  \n",
       "4  ultra  \n",
       "5  ultra  \n",
       "6  ultra  \n",
       "7  ultra  \n",
       "8  smart  \n",
       "9  smart  "
      ]
     },
     "execution_count": 38,
     "metadata": {},
     "output_type": "execute_result"
    }
   ],
   "source": [
    "revenue_users.head(10)"
   ]
  },
  {
   "cell_type": "code",
   "execution_count": 39,
   "metadata": {},
   "outputs": [],
   "source": [
    "revenue_users = revenue_users.merge(tariffs, how='left', left_on = 'tariff', right_on = 'tariff_name')"
   ]
  },
  {
   "cell_type": "code",
   "execution_count": 40,
   "metadata": {},
   "outputs": [
    {
     "data": {
      "text/html": [
       "<div>\n",
       "<style scoped>\n",
       "    .dataframe tbody tr th:only-of-type {\n",
       "        vertical-align: middle;\n",
       "    }\n",
       "\n",
       "    .dataframe tbody tr th {\n",
       "        vertical-align: top;\n",
       "    }\n",
       "\n",
       "    .dataframe thead th {\n",
       "        text-align: right;\n",
       "    }\n",
       "</style>\n",
       "<table border=\"1\" class=\"dataframe\">\n",
       "  <thead>\n",
       "    <tr style=\"text-align: right;\">\n",
       "      <th></th>\n",
       "      <th>user_id</th>\n",
       "      <th>month</th>\n",
       "      <th>month_calls_duration</th>\n",
       "      <th>month_calls_qty</th>\n",
       "      <th>month_messages</th>\n",
       "      <th>month_internet</th>\n",
       "      <th>age</th>\n",
       "      <th>churn_date</th>\n",
       "      <th>city</th>\n",
       "      <th>first_name</th>\n",
       "      <th>...</th>\n",
       "      <th>reg_date</th>\n",
       "      <th>tariff</th>\n",
       "      <th>messages_included</th>\n",
       "      <th>mb_per_month_included</th>\n",
       "      <th>minutes_included</th>\n",
       "      <th>rub_monthly_fee</th>\n",
       "      <th>rub_per_gb</th>\n",
       "      <th>rub_per_message</th>\n",
       "      <th>rub_per_minute</th>\n",
       "      <th>tariff_name</th>\n",
       "    </tr>\n",
       "  </thead>\n",
       "  <tbody>\n",
       "    <tr>\n",
       "      <th>0</th>\n",
       "      <td>1000</td>\n",
       "      <td>5</td>\n",
       "      <td>159.0</td>\n",
       "      <td>22.0</td>\n",
       "      <td>22.0</td>\n",
       "      <td>2253.49</td>\n",
       "      <td>52</td>\n",
       "      <td>NaT</td>\n",
       "      <td>Краснодар</td>\n",
       "      <td>Рафаил</td>\n",
       "      <td>...</td>\n",
       "      <td>2018-05-25</td>\n",
       "      <td>ultra</td>\n",
       "      <td>1000</td>\n",
       "      <td>30720</td>\n",
       "      <td>3000</td>\n",
       "      <td>1950</td>\n",
       "      <td>150</td>\n",
       "      <td>1</td>\n",
       "      <td>1</td>\n",
       "      <td>ultra</td>\n",
       "    </tr>\n",
       "    <tr>\n",
       "      <th>1</th>\n",
       "      <td>1000</td>\n",
       "      <td>6</td>\n",
       "      <td>172.0</td>\n",
       "      <td>43.0</td>\n",
       "      <td>60.0</td>\n",
       "      <td>23233.77</td>\n",
       "      <td>52</td>\n",
       "      <td>NaT</td>\n",
       "      <td>Краснодар</td>\n",
       "      <td>Рафаил</td>\n",
       "      <td>...</td>\n",
       "      <td>2018-05-25</td>\n",
       "      <td>ultra</td>\n",
       "      <td>1000</td>\n",
       "      <td>30720</td>\n",
       "      <td>3000</td>\n",
       "      <td>1950</td>\n",
       "      <td>150</td>\n",
       "      <td>1</td>\n",
       "      <td>1</td>\n",
       "      <td>ultra</td>\n",
       "    </tr>\n",
       "    <tr>\n",
       "      <th>2</th>\n",
       "      <td>1000</td>\n",
       "      <td>7</td>\n",
       "      <td>340.0</td>\n",
       "      <td>47.0</td>\n",
       "      <td>75.0</td>\n",
       "      <td>14003.64</td>\n",
       "      <td>52</td>\n",
       "      <td>NaT</td>\n",
       "      <td>Краснодар</td>\n",
       "      <td>Рафаил</td>\n",
       "      <td>...</td>\n",
       "      <td>2018-05-25</td>\n",
       "      <td>ultra</td>\n",
       "      <td>1000</td>\n",
       "      <td>30720</td>\n",
       "      <td>3000</td>\n",
       "      <td>1950</td>\n",
       "      <td>150</td>\n",
       "      <td>1</td>\n",
       "      <td>1</td>\n",
       "      <td>ultra</td>\n",
       "    </tr>\n",
       "    <tr>\n",
       "      <th>3</th>\n",
       "      <td>1000</td>\n",
       "      <td>8</td>\n",
       "      <td>408.0</td>\n",
       "      <td>52.0</td>\n",
       "      <td>81.0</td>\n",
       "      <td>14055.93</td>\n",
       "      <td>52</td>\n",
       "      <td>NaT</td>\n",
       "      <td>Краснодар</td>\n",
       "      <td>Рафаил</td>\n",
       "      <td>...</td>\n",
       "      <td>2018-05-25</td>\n",
       "      <td>ultra</td>\n",
       "      <td>1000</td>\n",
       "      <td>30720</td>\n",
       "      <td>3000</td>\n",
       "      <td>1950</td>\n",
       "      <td>150</td>\n",
       "      <td>1</td>\n",
       "      <td>1</td>\n",
       "      <td>ultra</td>\n",
       "    </tr>\n",
       "    <tr>\n",
       "      <th>4</th>\n",
       "      <td>1000</td>\n",
       "      <td>9</td>\n",
       "      <td>466.0</td>\n",
       "      <td>58.0</td>\n",
       "      <td>57.0</td>\n",
       "      <td>14568.91</td>\n",
       "      <td>52</td>\n",
       "      <td>NaT</td>\n",
       "      <td>Краснодар</td>\n",
       "      <td>Рафаил</td>\n",
       "      <td>...</td>\n",
       "      <td>2018-05-25</td>\n",
       "      <td>ultra</td>\n",
       "      <td>1000</td>\n",
       "      <td>30720</td>\n",
       "      <td>3000</td>\n",
       "      <td>1950</td>\n",
       "      <td>150</td>\n",
       "      <td>1</td>\n",
       "      <td>1</td>\n",
       "      <td>ultra</td>\n",
       "    </tr>\n",
       "    <tr>\n",
       "      <th>5</th>\n",
       "      <td>1000</td>\n",
       "      <td>10</td>\n",
       "      <td>350.0</td>\n",
       "      <td>57.0</td>\n",
       "      <td>73.0</td>\n",
       "      <td>14702.49</td>\n",
       "      <td>52</td>\n",
       "      <td>NaT</td>\n",
       "      <td>Краснодар</td>\n",
       "      <td>Рафаил</td>\n",
       "      <td>...</td>\n",
       "      <td>2018-05-25</td>\n",
       "      <td>ultra</td>\n",
       "      <td>1000</td>\n",
       "      <td>30720</td>\n",
       "      <td>3000</td>\n",
       "      <td>1950</td>\n",
       "      <td>150</td>\n",
       "      <td>1</td>\n",
       "      <td>1</td>\n",
       "      <td>ultra</td>\n",
       "    </tr>\n",
       "    <tr>\n",
       "      <th>6</th>\n",
       "      <td>1000</td>\n",
       "      <td>11</td>\n",
       "      <td>338.0</td>\n",
       "      <td>43.0</td>\n",
       "      <td>58.0</td>\n",
       "      <td>14756.47</td>\n",
       "      <td>52</td>\n",
       "      <td>NaT</td>\n",
       "      <td>Краснодар</td>\n",
       "      <td>Рафаил</td>\n",
       "      <td>...</td>\n",
       "      <td>2018-05-25</td>\n",
       "      <td>ultra</td>\n",
       "      <td>1000</td>\n",
       "      <td>30720</td>\n",
       "      <td>3000</td>\n",
       "      <td>1950</td>\n",
       "      <td>150</td>\n",
       "      <td>1</td>\n",
       "      <td>1</td>\n",
       "      <td>ultra</td>\n",
       "    </tr>\n",
       "    <tr>\n",
       "      <th>7</th>\n",
       "      <td>1000</td>\n",
       "      <td>12</td>\n",
       "      <td>333.0</td>\n",
       "      <td>46.0</td>\n",
       "      <td>70.0</td>\n",
       "      <td>9817.61</td>\n",
       "      <td>52</td>\n",
       "      <td>NaT</td>\n",
       "      <td>Краснодар</td>\n",
       "      <td>Рафаил</td>\n",
       "      <td>...</td>\n",
       "      <td>2018-05-25</td>\n",
       "      <td>ultra</td>\n",
       "      <td>1000</td>\n",
       "      <td>30720</td>\n",
       "      <td>3000</td>\n",
       "      <td>1950</td>\n",
       "      <td>150</td>\n",
       "      <td>1</td>\n",
       "      <td>1</td>\n",
       "      <td>ultra</td>\n",
       "    </tr>\n",
       "    <tr>\n",
       "      <th>8</th>\n",
       "      <td>1001</td>\n",
       "      <td>11</td>\n",
       "      <td>430.0</td>\n",
       "      <td>59.0</td>\n",
       "      <td>0.0</td>\n",
       "      <td>18429.34</td>\n",
       "      <td>41</td>\n",
       "      <td>NaT</td>\n",
       "      <td>Москва</td>\n",
       "      <td>Иван</td>\n",
       "      <td>...</td>\n",
       "      <td>2018-11-01</td>\n",
       "      <td>smart</td>\n",
       "      <td>50</td>\n",
       "      <td>15360</td>\n",
       "      <td>500</td>\n",
       "      <td>550</td>\n",
       "      <td>200</td>\n",
       "      <td>3</td>\n",
       "      <td>3</td>\n",
       "      <td>smart</td>\n",
       "    </tr>\n",
       "    <tr>\n",
       "      <th>9</th>\n",
       "      <td>1001</td>\n",
       "      <td>12</td>\n",
       "      <td>414.0</td>\n",
       "      <td>63.0</td>\n",
       "      <td>0.0</td>\n",
       "      <td>14036.66</td>\n",
       "      <td>41</td>\n",
       "      <td>NaT</td>\n",
       "      <td>Москва</td>\n",
       "      <td>Иван</td>\n",
       "      <td>...</td>\n",
       "      <td>2018-11-01</td>\n",
       "      <td>smart</td>\n",
       "      <td>50</td>\n",
       "      <td>15360</td>\n",
       "      <td>500</td>\n",
       "      <td>550</td>\n",
       "      <td>200</td>\n",
       "      <td>3</td>\n",
       "      <td>3</td>\n",
       "      <td>smart</td>\n",
       "    </tr>\n",
       "  </tbody>\n",
       "</table>\n",
       "<p>10 rows × 21 columns</p>\n",
       "</div>"
      ],
      "text/plain": [
       "   user_id  month  month_calls_duration  month_calls_qty  month_messages  \\\n",
       "0     1000      5                 159.0             22.0            22.0   \n",
       "1     1000      6                 172.0             43.0            60.0   \n",
       "2     1000      7                 340.0             47.0            75.0   \n",
       "3     1000      8                 408.0             52.0            81.0   \n",
       "4     1000      9                 466.0             58.0            57.0   \n",
       "5     1000     10                 350.0             57.0            73.0   \n",
       "6     1000     11                 338.0             43.0            58.0   \n",
       "7     1000     12                 333.0             46.0            70.0   \n",
       "8     1001     11                 430.0             59.0             0.0   \n",
       "9     1001     12                 414.0             63.0             0.0   \n",
       "\n",
       "   month_internet  age churn_date       city first_name  ...   reg_date  \\\n",
       "0         2253.49   52        NaT  Краснодар     Рафаил  ... 2018-05-25   \n",
       "1        23233.77   52        NaT  Краснодар     Рафаил  ... 2018-05-25   \n",
       "2        14003.64   52        NaT  Краснодар     Рафаил  ... 2018-05-25   \n",
       "3        14055.93   52        NaT  Краснодар     Рафаил  ... 2018-05-25   \n",
       "4        14568.91   52        NaT  Краснодар     Рафаил  ... 2018-05-25   \n",
       "5        14702.49   52        NaT  Краснодар     Рафаил  ... 2018-05-25   \n",
       "6        14756.47   52        NaT  Краснодар     Рафаил  ... 2018-05-25   \n",
       "7         9817.61   52        NaT  Краснодар     Рафаил  ... 2018-05-25   \n",
       "8        18429.34   41        NaT     Москва       Иван  ... 2018-11-01   \n",
       "9        14036.66   41        NaT     Москва       Иван  ... 2018-11-01   \n",
       "\n",
       "  tariff messages_included  mb_per_month_included  minutes_included  \\\n",
       "0  ultra              1000                  30720              3000   \n",
       "1  ultra              1000                  30720              3000   \n",
       "2  ultra              1000                  30720              3000   \n",
       "3  ultra              1000                  30720              3000   \n",
       "4  ultra              1000                  30720              3000   \n",
       "5  ultra              1000                  30720              3000   \n",
       "6  ultra              1000                  30720              3000   \n",
       "7  ultra              1000                  30720              3000   \n",
       "8  smart                50                  15360               500   \n",
       "9  smart                50                  15360               500   \n",
       "\n",
       "   rub_monthly_fee  rub_per_gb  rub_per_message  rub_per_minute  tariff_name  \n",
       "0             1950         150                1               1        ultra  \n",
       "1             1950         150                1               1        ultra  \n",
       "2             1950         150                1               1        ultra  \n",
       "3             1950         150                1               1        ultra  \n",
       "4             1950         150                1               1        ultra  \n",
       "5             1950         150                1               1        ultra  \n",
       "6             1950         150                1               1        ultra  \n",
       "7             1950         150                1               1        ultra  \n",
       "8              550         200                3               3        smart  \n",
       "9              550         200                3               3        smart  \n",
       "\n",
       "[10 rows x 21 columns]"
      ]
     },
     "execution_count": 40,
     "metadata": {},
     "output_type": "execute_result"
    }
   ],
   "source": [
    "revenue_users.head(10)"
   ]
  },
  {
   "cell_type": "code",
   "execution_count": 41,
   "metadata": {},
   "outputs": [],
   "source": [
    "#вычтите бесплатный лимит из суммарного количества звонков, сообщений и интернет-трафика \n",
    "#количество мб сверх тарифа округлим в большую сторону и переведем в гб \n",
    "revenue_users['over_minutes'] = revenue_users['month_calls_duration'] - revenue_users['minutes_included']\n",
    "revenue_users['over_messages'] = revenue_users['month_messages'] - revenue_users['messages_included']\n",
    "revenue_users['over_internet_gb'] = (revenue_users['month_internet'] - revenue_users['mb_per_month_included'])/1024\n",
    "revenue_users['over_internet_gb'] = revenue_users['over_internet_gb'].apply(np.ceil).astype('int')"
   ]
  },
  {
   "cell_type": "code",
   "execution_count": 42,
   "metadata": {},
   "outputs": [
    {
     "data": {
      "text/html": [
       "<div>\n",
       "<style scoped>\n",
       "    .dataframe tbody tr th:only-of-type {\n",
       "        vertical-align: middle;\n",
       "    }\n",
       "\n",
       "    .dataframe tbody tr th {\n",
       "        vertical-align: top;\n",
       "    }\n",
       "\n",
       "    .dataframe thead th {\n",
       "        text-align: right;\n",
       "    }\n",
       "</style>\n",
       "<table border=\"1\" class=\"dataframe\">\n",
       "  <thead>\n",
       "    <tr style=\"text-align: right;\">\n",
       "      <th></th>\n",
       "      <th>user_id</th>\n",
       "      <th>month</th>\n",
       "      <th>month_calls_duration</th>\n",
       "      <th>month_calls_qty</th>\n",
       "      <th>month_messages</th>\n",
       "      <th>month_internet</th>\n",
       "      <th>age</th>\n",
       "      <th>churn_date</th>\n",
       "      <th>city</th>\n",
       "      <th>first_name</th>\n",
       "      <th>...</th>\n",
       "      <th>mb_per_month_included</th>\n",
       "      <th>minutes_included</th>\n",
       "      <th>rub_monthly_fee</th>\n",
       "      <th>rub_per_gb</th>\n",
       "      <th>rub_per_message</th>\n",
       "      <th>rub_per_minute</th>\n",
       "      <th>tariff_name</th>\n",
       "      <th>over_minutes</th>\n",
       "      <th>over_messages</th>\n",
       "      <th>over_internet_gb</th>\n",
       "    </tr>\n",
       "  </thead>\n",
       "  <tbody>\n",
       "    <tr>\n",
       "      <th>0</th>\n",
       "      <td>1000</td>\n",
       "      <td>5</td>\n",
       "      <td>159.0</td>\n",
       "      <td>22.0</td>\n",
       "      <td>22.0</td>\n",
       "      <td>2253.49</td>\n",
       "      <td>52</td>\n",
       "      <td>NaT</td>\n",
       "      <td>Краснодар</td>\n",
       "      <td>Рафаил</td>\n",
       "      <td>...</td>\n",
       "      <td>30720</td>\n",
       "      <td>3000</td>\n",
       "      <td>1950</td>\n",
       "      <td>150</td>\n",
       "      <td>1</td>\n",
       "      <td>1</td>\n",
       "      <td>ultra</td>\n",
       "      <td>-2841.0</td>\n",
       "      <td>-978.0</td>\n",
       "      <td>-27</td>\n",
       "    </tr>\n",
       "    <tr>\n",
       "      <th>1</th>\n",
       "      <td>1000</td>\n",
       "      <td>6</td>\n",
       "      <td>172.0</td>\n",
       "      <td>43.0</td>\n",
       "      <td>60.0</td>\n",
       "      <td>23233.77</td>\n",
       "      <td>52</td>\n",
       "      <td>NaT</td>\n",
       "      <td>Краснодар</td>\n",
       "      <td>Рафаил</td>\n",
       "      <td>...</td>\n",
       "      <td>30720</td>\n",
       "      <td>3000</td>\n",
       "      <td>1950</td>\n",
       "      <td>150</td>\n",
       "      <td>1</td>\n",
       "      <td>1</td>\n",
       "      <td>ultra</td>\n",
       "      <td>-2828.0</td>\n",
       "      <td>-940.0</td>\n",
       "      <td>-7</td>\n",
       "    </tr>\n",
       "    <tr>\n",
       "      <th>2</th>\n",
       "      <td>1000</td>\n",
       "      <td>7</td>\n",
       "      <td>340.0</td>\n",
       "      <td>47.0</td>\n",
       "      <td>75.0</td>\n",
       "      <td>14003.64</td>\n",
       "      <td>52</td>\n",
       "      <td>NaT</td>\n",
       "      <td>Краснодар</td>\n",
       "      <td>Рафаил</td>\n",
       "      <td>...</td>\n",
       "      <td>30720</td>\n",
       "      <td>3000</td>\n",
       "      <td>1950</td>\n",
       "      <td>150</td>\n",
       "      <td>1</td>\n",
       "      <td>1</td>\n",
       "      <td>ultra</td>\n",
       "      <td>-2660.0</td>\n",
       "      <td>-925.0</td>\n",
       "      <td>-16</td>\n",
       "    </tr>\n",
       "    <tr>\n",
       "      <th>3</th>\n",
       "      <td>1000</td>\n",
       "      <td>8</td>\n",
       "      <td>408.0</td>\n",
       "      <td>52.0</td>\n",
       "      <td>81.0</td>\n",
       "      <td>14055.93</td>\n",
       "      <td>52</td>\n",
       "      <td>NaT</td>\n",
       "      <td>Краснодар</td>\n",
       "      <td>Рафаил</td>\n",
       "      <td>...</td>\n",
       "      <td>30720</td>\n",
       "      <td>3000</td>\n",
       "      <td>1950</td>\n",
       "      <td>150</td>\n",
       "      <td>1</td>\n",
       "      <td>1</td>\n",
       "      <td>ultra</td>\n",
       "      <td>-2592.0</td>\n",
       "      <td>-919.0</td>\n",
       "      <td>-16</td>\n",
       "    </tr>\n",
       "    <tr>\n",
       "      <th>4</th>\n",
       "      <td>1000</td>\n",
       "      <td>9</td>\n",
       "      <td>466.0</td>\n",
       "      <td>58.0</td>\n",
       "      <td>57.0</td>\n",
       "      <td>14568.91</td>\n",
       "      <td>52</td>\n",
       "      <td>NaT</td>\n",
       "      <td>Краснодар</td>\n",
       "      <td>Рафаил</td>\n",
       "      <td>...</td>\n",
       "      <td>30720</td>\n",
       "      <td>3000</td>\n",
       "      <td>1950</td>\n",
       "      <td>150</td>\n",
       "      <td>1</td>\n",
       "      <td>1</td>\n",
       "      <td>ultra</td>\n",
       "      <td>-2534.0</td>\n",
       "      <td>-943.0</td>\n",
       "      <td>-15</td>\n",
       "    </tr>\n",
       "    <tr>\n",
       "      <th>5</th>\n",
       "      <td>1000</td>\n",
       "      <td>10</td>\n",
       "      <td>350.0</td>\n",
       "      <td>57.0</td>\n",
       "      <td>73.0</td>\n",
       "      <td>14702.49</td>\n",
       "      <td>52</td>\n",
       "      <td>NaT</td>\n",
       "      <td>Краснодар</td>\n",
       "      <td>Рафаил</td>\n",
       "      <td>...</td>\n",
       "      <td>30720</td>\n",
       "      <td>3000</td>\n",
       "      <td>1950</td>\n",
       "      <td>150</td>\n",
       "      <td>1</td>\n",
       "      <td>1</td>\n",
       "      <td>ultra</td>\n",
       "      <td>-2650.0</td>\n",
       "      <td>-927.0</td>\n",
       "      <td>-15</td>\n",
       "    </tr>\n",
       "    <tr>\n",
       "      <th>6</th>\n",
       "      <td>1000</td>\n",
       "      <td>11</td>\n",
       "      <td>338.0</td>\n",
       "      <td>43.0</td>\n",
       "      <td>58.0</td>\n",
       "      <td>14756.47</td>\n",
       "      <td>52</td>\n",
       "      <td>NaT</td>\n",
       "      <td>Краснодар</td>\n",
       "      <td>Рафаил</td>\n",
       "      <td>...</td>\n",
       "      <td>30720</td>\n",
       "      <td>3000</td>\n",
       "      <td>1950</td>\n",
       "      <td>150</td>\n",
       "      <td>1</td>\n",
       "      <td>1</td>\n",
       "      <td>ultra</td>\n",
       "      <td>-2662.0</td>\n",
       "      <td>-942.0</td>\n",
       "      <td>-15</td>\n",
       "    </tr>\n",
       "    <tr>\n",
       "      <th>7</th>\n",
       "      <td>1000</td>\n",
       "      <td>12</td>\n",
       "      <td>333.0</td>\n",
       "      <td>46.0</td>\n",
       "      <td>70.0</td>\n",
       "      <td>9817.61</td>\n",
       "      <td>52</td>\n",
       "      <td>NaT</td>\n",
       "      <td>Краснодар</td>\n",
       "      <td>Рафаил</td>\n",
       "      <td>...</td>\n",
       "      <td>30720</td>\n",
       "      <td>3000</td>\n",
       "      <td>1950</td>\n",
       "      <td>150</td>\n",
       "      <td>1</td>\n",
       "      <td>1</td>\n",
       "      <td>ultra</td>\n",
       "      <td>-2667.0</td>\n",
       "      <td>-930.0</td>\n",
       "      <td>-20</td>\n",
       "    </tr>\n",
       "    <tr>\n",
       "      <th>8</th>\n",
       "      <td>1001</td>\n",
       "      <td>11</td>\n",
       "      <td>430.0</td>\n",
       "      <td>59.0</td>\n",
       "      <td>0.0</td>\n",
       "      <td>18429.34</td>\n",
       "      <td>41</td>\n",
       "      <td>NaT</td>\n",
       "      <td>Москва</td>\n",
       "      <td>Иван</td>\n",
       "      <td>...</td>\n",
       "      <td>15360</td>\n",
       "      <td>500</td>\n",
       "      <td>550</td>\n",
       "      <td>200</td>\n",
       "      <td>3</td>\n",
       "      <td>3</td>\n",
       "      <td>smart</td>\n",
       "      <td>-70.0</td>\n",
       "      <td>-50.0</td>\n",
       "      <td>3</td>\n",
       "    </tr>\n",
       "    <tr>\n",
       "      <th>9</th>\n",
       "      <td>1001</td>\n",
       "      <td>12</td>\n",
       "      <td>414.0</td>\n",
       "      <td>63.0</td>\n",
       "      <td>0.0</td>\n",
       "      <td>14036.66</td>\n",
       "      <td>41</td>\n",
       "      <td>NaT</td>\n",
       "      <td>Москва</td>\n",
       "      <td>Иван</td>\n",
       "      <td>...</td>\n",
       "      <td>15360</td>\n",
       "      <td>500</td>\n",
       "      <td>550</td>\n",
       "      <td>200</td>\n",
       "      <td>3</td>\n",
       "      <td>3</td>\n",
       "      <td>smart</td>\n",
       "      <td>-86.0</td>\n",
       "      <td>-50.0</td>\n",
       "      <td>-1</td>\n",
       "    </tr>\n",
       "  </tbody>\n",
       "</table>\n",
       "<p>10 rows × 24 columns</p>\n",
       "</div>"
      ],
      "text/plain": [
       "   user_id  month  month_calls_duration  month_calls_qty  month_messages  \\\n",
       "0     1000      5                 159.0             22.0            22.0   \n",
       "1     1000      6                 172.0             43.0            60.0   \n",
       "2     1000      7                 340.0             47.0            75.0   \n",
       "3     1000      8                 408.0             52.0            81.0   \n",
       "4     1000      9                 466.0             58.0            57.0   \n",
       "5     1000     10                 350.0             57.0            73.0   \n",
       "6     1000     11                 338.0             43.0            58.0   \n",
       "7     1000     12                 333.0             46.0            70.0   \n",
       "8     1001     11                 430.0             59.0             0.0   \n",
       "9     1001     12                 414.0             63.0             0.0   \n",
       "\n",
       "   month_internet  age churn_date       city first_name  ...  \\\n",
       "0         2253.49   52        NaT  Краснодар     Рафаил  ...   \n",
       "1        23233.77   52        NaT  Краснодар     Рафаил  ...   \n",
       "2        14003.64   52        NaT  Краснодар     Рафаил  ...   \n",
       "3        14055.93   52        NaT  Краснодар     Рафаил  ...   \n",
       "4        14568.91   52        NaT  Краснодар     Рафаил  ...   \n",
       "5        14702.49   52        NaT  Краснодар     Рафаил  ...   \n",
       "6        14756.47   52        NaT  Краснодар     Рафаил  ...   \n",
       "7         9817.61   52        NaT  Краснодар     Рафаил  ...   \n",
       "8        18429.34   41        NaT     Москва       Иван  ...   \n",
       "9        14036.66   41        NaT     Москва       Иван  ...   \n",
       "\n",
       "  mb_per_month_included minutes_included rub_monthly_fee  rub_per_gb  \\\n",
       "0                 30720             3000            1950         150   \n",
       "1                 30720             3000            1950         150   \n",
       "2                 30720             3000            1950         150   \n",
       "3                 30720             3000            1950         150   \n",
       "4                 30720             3000            1950         150   \n",
       "5                 30720             3000            1950         150   \n",
       "6                 30720             3000            1950         150   \n",
       "7                 30720             3000            1950         150   \n",
       "8                 15360              500             550         200   \n",
       "9                 15360              500             550         200   \n",
       "\n",
       "   rub_per_message  rub_per_minute  tariff_name  over_minutes  over_messages  \\\n",
       "0                1               1        ultra       -2841.0         -978.0   \n",
       "1                1               1        ultra       -2828.0         -940.0   \n",
       "2                1               1        ultra       -2660.0         -925.0   \n",
       "3                1               1        ultra       -2592.0         -919.0   \n",
       "4                1               1        ultra       -2534.0         -943.0   \n",
       "5                1               1        ultra       -2650.0         -927.0   \n",
       "6                1               1        ultra       -2662.0         -942.0   \n",
       "7                1               1        ultra       -2667.0         -930.0   \n",
       "8                3               3        smart         -70.0          -50.0   \n",
       "9                3               3        smart         -86.0          -50.0   \n",
       "\n",
       "   over_internet_gb  \n",
       "0               -27  \n",
       "1                -7  \n",
       "2               -16  \n",
       "3               -16  \n",
       "4               -15  \n",
       "5               -15  \n",
       "6               -15  \n",
       "7               -20  \n",
       "8                 3  \n",
       "9                -1  \n",
       "\n",
       "[10 rows x 24 columns]"
      ]
     },
     "execution_count": 42,
     "metadata": {},
     "output_type": "execute_result"
    }
   ],
   "source": [
    "revenue_users.head(10)"
   ]
  },
  {
   "cell_type": "code",
   "execution_count": 43,
   "metadata": {},
   "outputs": [],
   "source": [
    "# Если значения отрицательные, значит сверх тарифа трат не было. Занулим такие значения\n",
    "revenue_users.loc[revenue_users['over_minutes'] < 0,'over_minutes'] = 0\n",
    "revenue_users.loc[revenue_users['over_messages'] < 0,'over_messages'] = 0\n",
    "revenue_users.loc[revenue_users['over_internet_gb'] < 0,'over_internet_gb'] = 0"
   ]
  },
  {
   "cell_type": "code",
   "execution_count": 44,
   "metadata": {},
   "outputs": [],
   "source": [
    "#Рассчитаем помесячную выручку с каждого пользователя (вычтите бесплатный лимит из суммарного количества звонков, сообщений \n",
    "#и интернет-трафика; остаток умножьте на значение из тарифного плана; прибавьте абонентскую плату, \n",
    "#соответствующую тарифному плану).\n",
    "\n",
    "revenue_users['month_revenue'] = (revenue_users['rub_monthly_fee'] \n",
    "                                +revenue_users['rub_per_minute']*revenue_users['over_minutes']\n",
    "                                +revenue_users['rub_per_gb']*revenue_users['over_internet_gb']\n",
    "                                +revenue_users['rub_per_message']*revenue_users['over_messages']\n",
    "                                 )"
   ]
  },
  {
   "cell_type": "code",
   "execution_count": 45,
   "metadata": {},
   "outputs": [
    {
     "data": {
      "text/html": [
       "<div>\n",
       "<style scoped>\n",
       "    .dataframe tbody tr th:only-of-type {\n",
       "        vertical-align: middle;\n",
       "    }\n",
       "\n",
       "    .dataframe tbody tr th {\n",
       "        vertical-align: top;\n",
       "    }\n",
       "\n",
       "    .dataframe thead th {\n",
       "        text-align: right;\n",
       "    }\n",
       "</style>\n",
       "<table border=\"1\" class=\"dataframe\">\n",
       "  <thead>\n",
       "    <tr style=\"text-align: right;\">\n",
       "      <th></th>\n",
       "      <th>user_id</th>\n",
       "      <th>month</th>\n",
       "      <th>month_calls_duration</th>\n",
       "      <th>month_calls_qty</th>\n",
       "      <th>month_messages</th>\n",
       "      <th>month_internet</th>\n",
       "      <th>age</th>\n",
       "      <th>churn_date</th>\n",
       "      <th>city</th>\n",
       "      <th>first_name</th>\n",
       "      <th>...</th>\n",
       "      <th>minutes_included</th>\n",
       "      <th>rub_monthly_fee</th>\n",
       "      <th>rub_per_gb</th>\n",
       "      <th>rub_per_message</th>\n",
       "      <th>rub_per_minute</th>\n",
       "      <th>tariff_name</th>\n",
       "      <th>over_minutes</th>\n",
       "      <th>over_messages</th>\n",
       "      <th>over_internet_gb</th>\n",
       "      <th>month_revenue</th>\n",
       "    </tr>\n",
       "  </thead>\n",
       "  <tbody>\n",
       "    <tr>\n",
       "      <th>0</th>\n",
       "      <td>1000</td>\n",
       "      <td>5</td>\n",
       "      <td>159.0</td>\n",
       "      <td>22.0</td>\n",
       "      <td>22.0</td>\n",
       "      <td>2253.49</td>\n",
       "      <td>52</td>\n",
       "      <td>NaT</td>\n",
       "      <td>Краснодар</td>\n",
       "      <td>Рафаил</td>\n",
       "      <td>...</td>\n",
       "      <td>3000</td>\n",
       "      <td>1950</td>\n",
       "      <td>150</td>\n",
       "      <td>1</td>\n",
       "      <td>1</td>\n",
       "      <td>ultra</td>\n",
       "      <td>0.0</td>\n",
       "      <td>0.0</td>\n",
       "      <td>0</td>\n",
       "      <td>1950.0</td>\n",
       "    </tr>\n",
       "    <tr>\n",
       "      <th>1</th>\n",
       "      <td>1000</td>\n",
       "      <td>6</td>\n",
       "      <td>172.0</td>\n",
       "      <td>43.0</td>\n",
       "      <td>60.0</td>\n",
       "      <td>23233.77</td>\n",
       "      <td>52</td>\n",
       "      <td>NaT</td>\n",
       "      <td>Краснодар</td>\n",
       "      <td>Рафаил</td>\n",
       "      <td>...</td>\n",
       "      <td>3000</td>\n",
       "      <td>1950</td>\n",
       "      <td>150</td>\n",
       "      <td>1</td>\n",
       "      <td>1</td>\n",
       "      <td>ultra</td>\n",
       "      <td>0.0</td>\n",
       "      <td>0.0</td>\n",
       "      <td>0</td>\n",
       "      <td>1950.0</td>\n",
       "    </tr>\n",
       "    <tr>\n",
       "      <th>2</th>\n",
       "      <td>1000</td>\n",
       "      <td>7</td>\n",
       "      <td>340.0</td>\n",
       "      <td>47.0</td>\n",
       "      <td>75.0</td>\n",
       "      <td>14003.64</td>\n",
       "      <td>52</td>\n",
       "      <td>NaT</td>\n",
       "      <td>Краснодар</td>\n",
       "      <td>Рафаил</td>\n",
       "      <td>...</td>\n",
       "      <td>3000</td>\n",
       "      <td>1950</td>\n",
       "      <td>150</td>\n",
       "      <td>1</td>\n",
       "      <td>1</td>\n",
       "      <td>ultra</td>\n",
       "      <td>0.0</td>\n",
       "      <td>0.0</td>\n",
       "      <td>0</td>\n",
       "      <td>1950.0</td>\n",
       "    </tr>\n",
       "    <tr>\n",
       "      <th>3</th>\n",
       "      <td>1000</td>\n",
       "      <td>8</td>\n",
       "      <td>408.0</td>\n",
       "      <td>52.0</td>\n",
       "      <td>81.0</td>\n",
       "      <td>14055.93</td>\n",
       "      <td>52</td>\n",
       "      <td>NaT</td>\n",
       "      <td>Краснодар</td>\n",
       "      <td>Рафаил</td>\n",
       "      <td>...</td>\n",
       "      <td>3000</td>\n",
       "      <td>1950</td>\n",
       "      <td>150</td>\n",
       "      <td>1</td>\n",
       "      <td>1</td>\n",
       "      <td>ultra</td>\n",
       "      <td>0.0</td>\n",
       "      <td>0.0</td>\n",
       "      <td>0</td>\n",
       "      <td>1950.0</td>\n",
       "    </tr>\n",
       "    <tr>\n",
       "      <th>4</th>\n",
       "      <td>1000</td>\n",
       "      <td>9</td>\n",
       "      <td>466.0</td>\n",
       "      <td>58.0</td>\n",
       "      <td>57.0</td>\n",
       "      <td>14568.91</td>\n",
       "      <td>52</td>\n",
       "      <td>NaT</td>\n",
       "      <td>Краснодар</td>\n",
       "      <td>Рафаил</td>\n",
       "      <td>...</td>\n",
       "      <td>3000</td>\n",
       "      <td>1950</td>\n",
       "      <td>150</td>\n",
       "      <td>1</td>\n",
       "      <td>1</td>\n",
       "      <td>ultra</td>\n",
       "      <td>0.0</td>\n",
       "      <td>0.0</td>\n",
       "      <td>0</td>\n",
       "      <td>1950.0</td>\n",
       "    </tr>\n",
       "    <tr>\n",
       "      <th>5</th>\n",
       "      <td>1000</td>\n",
       "      <td>10</td>\n",
       "      <td>350.0</td>\n",
       "      <td>57.0</td>\n",
       "      <td>73.0</td>\n",
       "      <td>14702.49</td>\n",
       "      <td>52</td>\n",
       "      <td>NaT</td>\n",
       "      <td>Краснодар</td>\n",
       "      <td>Рафаил</td>\n",
       "      <td>...</td>\n",
       "      <td>3000</td>\n",
       "      <td>1950</td>\n",
       "      <td>150</td>\n",
       "      <td>1</td>\n",
       "      <td>1</td>\n",
       "      <td>ultra</td>\n",
       "      <td>0.0</td>\n",
       "      <td>0.0</td>\n",
       "      <td>0</td>\n",
       "      <td>1950.0</td>\n",
       "    </tr>\n",
       "    <tr>\n",
       "      <th>6</th>\n",
       "      <td>1000</td>\n",
       "      <td>11</td>\n",
       "      <td>338.0</td>\n",
       "      <td>43.0</td>\n",
       "      <td>58.0</td>\n",
       "      <td>14756.47</td>\n",
       "      <td>52</td>\n",
       "      <td>NaT</td>\n",
       "      <td>Краснодар</td>\n",
       "      <td>Рафаил</td>\n",
       "      <td>...</td>\n",
       "      <td>3000</td>\n",
       "      <td>1950</td>\n",
       "      <td>150</td>\n",
       "      <td>1</td>\n",
       "      <td>1</td>\n",
       "      <td>ultra</td>\n",
       "      <td>0.0</td>\n",
       "      <td>0.0</td>\n",
       "      <td>0</td>\n",
       "      <td>1950.0</td>\n",
       "    </tr>\n",
       "    <tr>\n",
       "      <th>7</th>\n",
       "      <td>1000</td>\n",
       "      <td>12</td>\n",
       "      <td>333.0</td>\n",
       "      <td>46.0</td>\n",
       "      <td>70.0</td>\n",
       "      <td>9817.61</td>\n",
       "      <td>52</td>\n",
       "      <td>NaT</td>\n",
       "      <td>Краснодар</td>\n",
       "      <td>Рафаил</td>\n",
       "      <td>...</td>\n",
       "      <td>3000</td>\n",
       "      <td>1950</td>\n",
       "      <td>150</td>\n",
       "      <td>1</td>\n",
       "      <td>1</td>\n",
       "      <td>ultra</td>\n",
       "      <td>0.0</td>\n",
       "      <td>0.0</td>\n",
       "      <td>0</td>\n",
       "      <td>1950.0</td>\n",
       "    </tr>\n",
       "    <tr>\n",
       "      <th>8</th>\n",
       "      <td>1001</td>\n",
       "      <td>11</td>\n",
       "      <td>430.0</td>\n",
       "      <td>59.0</td>\n",
       "      <td>0.0</td>\n",
       "      <td>18429.34</td>\n",
       "      <td>41</td>\n",
       "      <td>NaT</td>\n",
       "      <td>Москва</td>\n",
       "      <td>Иван</td>\n",
       "      <td>...</td>\n",
       "      <td>500</td>\n",
       "      <td>550</td>\n",
       "      <td>200</td>\n",
       "      <td>3</td>\n",
       "      <td>3</td>\n",
       "      <td>smart</td>\n",
       "      <td>0.0</td>\n",
       "      <td>0.0</td>\n",
       "      <td>3</td>\n",
       "      <td>1150.0</td>\n",
       "    </tr>\n",
       "    <tr>\n",
       "      <th>9</th>\n",
       "      <td>1001</td>\n",
       "      <td>12</td>\n",
       "      <td>414.0</td>\n",
       "      <td>63.0</td>\n",
       "      <td>0.0</td>\n",
       "      <td>14036.66</td>\n",
       "      <td>41</td>\n",
       "      <td>NaT</td>\n",
       "      <td>Москва</td>\n",
       "      <td>Иван</td>\n",
       "      <td>...</td>\n",
       "      <td>500</td>\n",
       "      <td>550</td>\n",
       "      <td>200</td>\n",
       "      <td>3</td>\n",
       "      <td>3</td>\n",
       "      <td>smart</td>\n",
       "      <td>0.0</td>\n",
       "      <td>0.0</td>\n",
       "      <td>0</td>\n",
       "      <td>550.0</td>\n",
       "    </tr>\n",
       "  </tbody>\n",
       "</table>\n",
       "<p>10 rows × 25 columns</p>\n",
       "</div>"
      ],
      "text/plain": [
       "   user_id  month  month_calls_duration  month_calls_qty  month_messages  \\\n",
       "0     1000      5                 159.0             22.0            22.0   \n",
       "1     1000      6                 172.0             43.0            60.0   \n",
       "2     1000      7                 340.0             47.0            75.0   \n",
       "3     1000      8                 408.0             52.0            81.0   \n",
       "4     1000      9                 466.0             58.0            57.0   \n",
       "5     1000     10                 350.0             57.0            73.0   \n",
       "6     1000     11                 338.0             43.0            58.0   \n",
       "7     1000     12                 333.0             46.0            70.0   \n",
       "8     1001     11                 430.0             59.0             0.0   \n",
       "9     1001     12                 414.0             63.0             0.0   \n",
       "\n",
       "   month_internet  age churn_date       city first_name  ... minutes_included  \\\n",
       "0         2253.49   52        NaT  Краснодар     Рафаил  ...             3000   \n",
       "1        23233.77   52        NaT  Краснодар     Рафаил  ...             3000   \n",
       "2        14003.64   52        NaT  Краснодар     Рафаил  ...             3000   \n",
       "3        14055.93   52        NaT  Краснодар     Рафаил  ...             3000   \n",
       "4        14568.91   52        NaT  Краснодар     Рафаил  ...             3000   \n",
       "5        14702.49   52        NaT  Краснодар     Рафаил  ...             3000   \n",
       "6        14756.47   52        NaT  Краснодар     Рафаил  ...             3000   \n",
       "7         9817.61   52        NaT  Краснодар     Рафаил  ...             3000   \n",
       "8        18429.34   41        NaT     Москва       Иван  ...              500   \n",
       "9        14036.66   41        NaT     Москва       Иван  ...              500   \n",
       "\n",
       "  rub_monthly_fee rub_per_gb  rub_per_message  rub_per_minute  tariff_name  \\\n",
       "0            1950        150                1               1        ultra   \n",
       "1            1950        150                1               1        ultra   \n",
       "2            1950        150                1               1        ultra   \n",
       "3            1950        150                1               1        ultra   \n",
       "4            1950        150                1               1        ultra   \n",
       "5            1950        150                1               1        ultra   \n",
       "6            1950        150                1               1        ultra   \n",
       "7            1950        150                1               1        ultra   \n",
       "8             550        200                3               3        smart   \n",
       "9             550        200                3               3        smart   \n",
       "\n",
       "   over_minutes  over_messages  over_internet_gb  month_revenue  \n",
       "0           0.0            0.0                 0         1950.0  \n",
       "1           0.0            0.0                 0         1950.0  \n",
       "2           0.0            0.0                 0         1950.0  \n",
       "3           0.0            0.0                 0         1950.0  \n",
       "4           0.0            0.0                 0         1950.0  \n",
       "5           0.0            0.0                 0         1950.0  \n",
       "6           0.0            0.0                 0         1950.0  \n",
       "7           0.0            0.0                 0         1950.0  \n",
       "8           0.0            0.0                 3         1150.0  \n",
       "9           0.0            0.0                 0          550.0  \n",
       "\n",
       "[10 rows x 25 columns]"
      ]
     },
     "execution_count": 45,
     "metadata": {},
     "output_type": "execute_result"
    }
   ],
   "source": [
    "revenue_users.head(10)"
   ]
  },
  {
   "cell_type": "markdown",
   "metadata": {},
   "source": [
    "Таким образом, мы привели данные к нужным типам, проверили их на наличие ошибок. Для каждого пользователя посчитали количество сделанных звонков и израсходованных минут разговора по месяцам, количество отправленных сообщений по месяцам, объем израсходованного интернет-трафика по месяцам, а также помесячную выручку с каждого пользователя."
   ]
  },
  {
   "cell_type": "markdown",
   "metadata": {},
   "source": [
    "## Исследовательский анализ данных"
   ]
  },
  {
   "cell_type": "markdown",
   "metadata": {},
   "source": [
    "Опишите поведение клиентов оператора, исходя из выборки. Сколько минут разговора, сколько сообщений и какой объём интернет-трафика требуется пользователям каждого тарифа в месяц? \n",
    "Посчитайте среднее количество, дисперсию и стандартное отклонение. Постройте гистограммы. Опишите распределения."
   ]
  },
  {
   "cell_type": "code",
   "execution_count": 46,
   "metadata": {},
   "outputs": [],
   "source": [
    "#Разделим на 2 выборки по соответсвующим тарифам\n",
    "revenue_users_ultra = revenue_users.query('tariff == \"ultra\"')\n",
    "revenue_users_smart = revenue_users.query('tariff == \"smart\"')"
   ]
  },
  {
   "cell_type": "markdown",
   "metadata": {},
   "source": [
    "Посчитаем среднее количество, дисперсию и стандартное отклонение для каждого тарифа по каждому показателю."
   ]
  },
  {
   "cell_type": "code",
   "execution_count": 47,
   "metadata": {},
   "outputs": [
    {
     "name": "stdout",
     "output_type": "stream",
     "text": [
      "\n",
      " month_messages\n",
      "\n",
      "Тариф Смарт\n",
      " Среднее: 33.384028712427096 \n",
      " Дисперсия: 796.455482917076 \n",
      " Стандартное отклонение: 28.221542886898938\n",
      "\n",
      "Тариф Ультра\n",
      " Среднее: 49.36345177664975 \n",
      " Дисперсия: 2282.946075394882 \n",
      " Стандартное отклонение: 47.78018496610161\n",
      "\n",
      " month_internet\n",
      "\n",
      "Тариф Смарт\n",
      " Среднее: 16208.386989681472 \n",
      " Дисперсия: 34447035.49528493 \n",
      " Стандартное отклонение: 5869.159692433401\n",
      "\n",
      "Тариф Ультра\n",
      " Среднее: 19468.805208121827 \n",
      " Дисперсия: 101647713.26174639 \n",
      " Стандартное отклонение: 10082.049060669482\n",
      "\n",
      " month_calls_duration\n",
      "\n",
      "Тариф Смарт\n",
      " Среднее: 417.9349484073576 \n",
      " Дисперсия: 36203.06665209469 \n",
      " Стандартное отклонение: 190.27103471651876\n",
      "\n",
      "Тариф Ультра\n",
      " Среднее: 526.6233502538071 \n",
      " Дисперсия: 100771.2236172022 \n",
      " Стандартное отклонение: 317.44483554974113\n"
     ]
    }
   ],
   "source": [
    "to_research = ['month_messages', 'month_internet', 'month_calls_duration']\n",
    "for col in to_research:\n",
    "    ultra_mean = revenue_users_ultra[col].mean()\n",
    "    ultra_var = np.var(revenue_users_ultra[col]) \n",
    "    ultra_std = np.std(revenue_users_ultra[col])\n",
    "\n",
    "    smart_mean = revenue_users_smart[col].mean()\n",
    "    smart_var = np.var(revenue_users_smart[col]) \n",
    "    smart_std = np.std(revenue_users_smart[col])\n",
    "    print('\\n', col)\n",
    "    print('\\nТариф Смарт\\n Среднее:',smart_mean,'\\n Дисперсия:',smart_var,'\\n Стандартное отклонение:',smart_std)\n",
    "    print('\\nТариф Ультра\\n Среднее:',ultra_mean,'\\n Дисперсия:',ultra_var,'\\n Стандартное отклонение:',ultra_std)"
   ]
  },
  {
   "cell_type": "markdown",
   "metadata": {},
   "source": [
    "Видим, что среднее количество минут, сообщений и трафика больше в тарифе Ультра. При этом стоит заметить, что и стандартное отклонение в тарифе Ультра в намного больше, чем в тарифе Смарт. То есть разброс относительно среднего гораздно выше.\n",
    "Посмотрим на гистограммы использования траффика, звонков и сообщений для этих тарифов."
   ]
  },
  {
   "cell_type": "code",
   "execution_count": 48,
   "metadata": {},
   "outputs": [
    {
     "data": {
      "image/png": "[encoded data removed]",
      "text/plain": [
       "<Figure size 432x288 with 1 Axes>"
      ]
     },
     "metadata": {
      "needs_background": "light"
     },
     "output_type": "display_data"
    },
    {
     "data": {
      "image/png": "[encoded data removed]",
      "text/plain": [
       "<Figure size 432x288 with 1 Axes>"
      ]
     },
     "metadata": {
      "needs_background": "light"
     },
     "output_type": "display_data"
    },
    {
     "data": {
      "image/png": "[encoded data removed]",
      "text/plain": [
       "<Figure size 432x288 with 1 Axes>"
      ]
     },
     "metadata": {
      "needs_background": "light"
     },
     "output_type": "display_data"
    },
    {
     "data": {
      "image/png": "[encoded data removed]",
      "text/plain": [
       "<Figure size 432x288 with 1 Axes>"
      ]
     },
     "metadata": {
      "needs_background": "light"
     },
     "output_type": "display_data"
    },
    {
     "data": {
      "image/png": "[encoded data removed]",
      "text/plain": [
       "<Figure size 432x288 with 1 Axes>"
      ]
     },
     "metadata": {
      "needs_background": "light"
     },
     "output_type": "display_data"
    },
    {
     "data": {
      "image/png": "[encoded data removed]",
      "text/plain": [
       "<Figure size 432x288 with 1 Axes>"
      ]
     },
     "metadata": {
      "needs_background": "light"
     },
     "output_type": "display_data"
    }
   ],
   "source": [
    "import matplotlib.pyplot as plt\n",
    "to_research = ['month_messages', 'month_internet', 'month_calls_duration']\n",
    "for col in to_research:\n",
    "\n",
    "    revenue_users_ultra.plot(\n",
    "    kind='hist',\n",
    "    y=col,\n",
    "    bins=30,\n",
    "    linewidth=5,\n",
    "    alpha=0.9,\n",
    "    label=col,\n",
    "    grid=True,\n",
    "    legend=True,\n",
    ") \n",
    "    revenue_users_smart.plot(\n",
    "    kind='hist',\n",
    "    y=col,\n",
    "    bins=30,\n",
    "    linewidth=5,\n",
    "    alpha=0.5,\n",
    "    label=col,\n",
    "    grid=True,\n",
    "    legend=True,\n",
    ") \n",
    "    plt.show()\n"
   ]
  },
  {
   "cell_type": "markdown",
   "metadata": {},
   "source": [
    "* Распределения использования сообщений для обоих тарифов похожи. Много нулевых значений, пик в районе 10-20 сообщений, дальше частота снижается. В тарифе Смарт в целом отправляют больше сообщений, возможно это связано с меньшим пакетом интренет траффика.\n",
    "* Гистограмма использования интренета для тарифа Смарт больше напоминает нормальное распределние. Пик приходится на 16-18 гб в месяц. В тарифе Ультра пик приходится на 21 гб, при этом распределение несколько расплывается по оси и имеет еще пики на 10 и 30 гб.\n",
    "* Похожая ситуация и с использованными звонками. В тарифе Смарт наибольшее количество человек расходуют примерно 500 минут (максимум тарифа) и распределние выглядит похожим на нормальное. А в тарифе Ультра два пика на 0 и на 500 минутах. Возможно, это связано с тем, что этот тариф больше используют для интеренета, чем для звонков и сообщений."
   ]
  },
  {
   "cell_type": "code",
   "execution_count": 49,
   "metadata": {},
   "outputs": [
    {
     "name": "stdout",
     "output_type": "stream",
     "text": [
      "\n",
      "Сообщения Ультра\n",
      " count    985.000000\n",
      "mean      49.363452\n",
      "std       47.804457\n",
      "min        0.000000\n",
      "25%        6.000000\n",
      "50%       38.000000\n",
      "75%       79.000000\n",
      "max      224.000000\n",
      "Name: month_messages, dtype: float64\n",
      "\n",
      "Сообщения Смарт\n",
      " count    2229.000000\n",
      "mean       33.384029\n",
      "std        28.227876\n",
      "min         0.000000\n",
      "25%        10.000000\n",
      "50%        28.000000\n",
      "75%        51.000000\n",
      "max       143.000000\n",
      "Name: month_messages, dtype: float64\n"
     ]
    }
   ],
   "source": [
    "to_research = ['month_messages', 'month_internet', 'month_calls_duration']\n",
    "print('\\nСообщения Ультра\\n',revenue_users_ultra['month_messages'].describe())\n",
    "print('\\nСообщения Смарт\\n',revenue_users_smart['month_messages'].describe())"
   ]
  },
  {
   "cell_type": "code",
   "execution_count": 50,
   "metadata": {},
   "outputs": [
    {
     "data": {
      "image/png": "[encoded data removed]",
      "text/plain": [
       "<Figure size 432x288 with 1 Axes>"
      ]
     },
     "metadata": {
      "needs_background": "light"
     },
     "output_type": "display_data"
    }
   ],
   "source": [
    "# Построим для одного параметра\n",
    "plt.hist(revenue_users_ultra['month_messages'], bins = 30, alpha=0.5, label='ultra')\n",
    "plt.hist(revenue_users_smart['month_messages'], bins = 30, alpha=0.5, label='smart')\n",
    "plt.legend(loc='upper right')\n",
    "#plt.show()\n",
    "plt.title(\"Histogram of messages used per month\")\n",
    "plt.xlabel(\"Number of messages\")\n",
    "plt.ylabel(\"QTY\")\n",
    "plt.show()"
   ]
  },
  {
   "cell_type": "code",
   "execution_count": 67,
   "metadata": {},
   "outputs": [
    {
     "data": {
      "text/html": [
       "<div>\n",
       "<style scoped>\n",
       "    .dataframe tbody tr th:only-of-type {\n",
       "        vertical-align: middle;\n",
       "    }\n",
       "\n",
       "    .dataframe tbody tr th {\n",
       "        vertical-align: top;\n",
       "    }\n",
       "\n",
       "    .dataframe thead th {\n",
       "        text-align: right;\n",
       "    }\n",
       "</style>\n",
       "<table border=\"1\" class=\"dataframe\">\n",
       "  <thead>\n",
       "    <tr style=\"text-align: right;\">\n",
       "      <th></th>\n",
       "      <th>tariff</th>\n",
       "      <th>smart</th>\n",
       "      <th>ultra</th>\n",
       "    </tr>\n",
       "  </thead>\n",
       "  <tbody>\n",
       "    <tr>\n",
       "      <th rowspan=\"8\" valign=\"top\">month_calls_duration</th>\n",
       "      <th>count</th>\n",
       "      <td>2229.000000</td>\n",
       "      <td>985.000000</td>\n",
       "    </tr>\n",
       "    <tr>\n",
       "      <th>mean</th>\n",
       "      <td>417.934948</td>\n",
       "      <td>526.623350</td>\n",
       "    </tr>\n",
       "    <tr>\n",
       "      <th>std</th>\n",
       "      <td>190.313730</td>\n",
       "      <td>317.606098</td>\n",
       "    </tr>\n",
       "    <tr>\n",
       "      <th>min</th>\n",
       "      <td>0.000000</td>\n",
       "      <td>0.000000</td>\n",
       "    </tr>\n",
       "    <tr>\n",
       "      <th>25%</th>\n",
       "      <td>282.000000</td>\n",
       "      <td>284.000000</td>\n",
       "    </tr>\n",
       "    <tr>\n",
       "      <th>50%</th>\n",
       "      <td>422.000000</td>\n",
       "      <td>518.000000</td>\n",
       "    </tr>\n",
       "    <tr>\n",
       "      <th>75%</th>\n",
       "      <td>545.000000</td>\n",
       "      <td>752.000000</td>\n",
       "    </tr>\n",
       "    <tr>\n",
       "      <th>max</th>\n",
       "      <td>1435.000000</td>\n",
       "      <td>1673.000000</td>\n",
       "    </tr>\n",
       "    <tr>\n",
       "      <th rowspan=\"8\" valign=\"top\">month_messages</th>\n",
       "      <th>count</th>\n",
       "      <td>2229.000000</td>\n",
       "      <td>985.000000</td>\n",
       "    </tr>\n",
       "    <tr>\n",
       "      <th>mean</th>\n",
       "      <td>33.384029</td>\n",
       "      <td>49.363452</td>\n",
       "    </tr>\n",
       "    <tr>\n",
       "      <th>std</th>\n",
       "      <td>28.227876</td>\n",
       "      <td>47.804457</td>\n",
       "    </tr>\n",
       "    <tr>\n",
       "      <th>min</th>\n",
       "      <td>0.000000</td>\n",
       "      <td>0.000000</td>\n",
       "    </tr>\n",
       "    <tr>\n",
       "      <th>25%</th>\n",
       "      <td>10.000000</td>\n",
       "      <td>6.000000</td>\n",
       "    </tr>\n",
       "    <tr>\n",
       "      <th>50%</th>\n",
       "      <td>28.000000</td>\n",
       "      <td>38.000000</td>\n",
       "    </tr>\n",
       "    <tr>\n",
       "      <th>75%</th>\n",
       "      <td>51.000000</td>\n",
       "      <td>79.000000</td>\n",
       "    </tr>\n",
       "    <tr>\n",
       "      <th>max</th>\n",
       "      <td>143.000000</td>\n",
       "      <td>224.000000</td>\n",
       "    </tr>\n",
       "    <tr>\n",
       "      <th rowspan=\"8\" valign=\"top\">month_internet</th>\n",
       "      <th>count</th>\n",
       "      <td>2229.000000</td>\n",
       "      <td>985.000000</td>\n",
       "    </tr>\n",
       "    <tr>\n",
       "      <th>mean</th>\n",
       "      <td>16208.386990</td>\n",
       "      <td>19468.805208</td>\n",
       "    </tr>\n",
       "    <tr>\n",
       "      <th>std</th>\n",
       "      <td>5870.476681</td>\n",
       "      <td>10087.170752</td>\n",
       "    </tr>\n",
       "    <tr>\n",
       "      <th>min</th>\n",
       "      <td>0.000000</td>\n",
       "      <td>0.000000</td>\n",
       "    </tr>\n",
       "    <tr>\n",
       "      <th>25%</th>\n",
       "      <td>12643.010000</td>\n",
       "      <td>11770.260000</td>\n",
       "    </tr>\n",
       "    <tr>\n",
       "      <th>50%</th>\n",
       "      <td>16506.840000</td>\n",
       "      <td>19308.010000</td>\n",
       "    </tr>\n",
       "    <tr>\n",
       "      <th>75%</th>\n",
       "      <td>20042.930000</td>\n",
       "      <td>26837.690000</td>\n",
       "    </tr>\n",
       "    <tr>\n",
       "      <th>max</th>\n",
       "      <td>38552.450000</td>\n",
       "      <td>49745.690000</td>\n",
       "    </tr>\n",
       "  </tbody>\n",
       "</table>\n",
       "</div>"
      ],
      "text/plain": [
       "tariff                             smart         ultra\n",
       "month_calls_duration count   2229.000000    985.000000\n",
       "                     mean     417.934948    526.623350\n",
       "                     std      190.313730    317.606098\n",
       "                     min        0.000000      0.000000\n",
       "                     25%      282.000000    284.000000\n",
       "                     50%      422.000000    518.000000\n",
       "                     75%      545.000000    752.000000\n",
       "                     max     1435.000000   1673.000000\n",
       "month_messages       count   2229.000000    985.000000\n",
       "                     mean      33.384029     49.363452\n",
       "                     std       28.227876     47.804457\n",
       "                     min        0.000000      0.000000\n",
       "                     25%       10.000000      6.000000\n",
       "                     50%       28.000000     38.000000\n",
       "                     75%       51.000000     79.000000\n",
       "                     max      143.000000    224.000000\n",
       "month_internet       count   2229.000000    985.000000\n",
       "                     mean   16208.386990  19468.805208\n",
       "                     std     5870.476681  10087.170752\n",
       "                     min        0.000000      0.000000\n",
       "                     25%    12643.010000  11770.260000\n",
       "                     50%    16506.840000  19308.010000\n",
       "                     75%    20042.930000  26837.690000\n",
       "                     max    38552.450000  49745.690000"
      ]
     },
     "execution_count": 67,
     "metadata": {},
     "output_type": "execute_result"
    }
   ],
   "source": [
    "# Код ревьюера\n",
    "revenue_users[['month_calls_duration', 'month_messages', 'month_internet', 'tariff']].groupby('tariff').describe().T"
   ]
  },
  {
   "cell_type": "markdown",
   "metadata": {},
   "source": [
    "## Проверка гипотез"
   ]
  },
  {
   "cell_type": "markdown",
   "metadata": {},
   "source": [
    "Проверьте гипотезы\n",
    "* средняя выручка пользователей тарифов «Ультра» и «Смарт» различаются;\n",
    "* средняя выручка пользователей из Москвы отличается от выручки пользователей из других регионов.\n",
    "Пороговое значение alpha задайте самостоятельно.\n",
    "\n",
    "Поясните:\n",
    "* как вы формулировали нулевую и альтернативную гипотезы;\n",
    "* какой критерий использовали для проверки гипотез и почему."
   ]
  },
  {
   "cell_type": "markdown",
   "metadata": {},
   "source": [
    "Нам нужно проверить, что средние двух генеральных совокупностей не равны.\n",
    "Нулевая гипотеза: средняя выручка пользователей тарифов «Ультра» и «Смарт» равна. Альтернативная гипотеза: средняя выручка пользователей тарифов «Ультра» больше, чем у «Смарт».\n",
    "В Python есть специальный метод для проверки гипотезы о равенстве среднего двух генеральных совокупностей по взятым из них выборкам: \n",
    "scipy.stats.ttest_ind (array1, array2, equal_var). Применим его для наших выборок.  \n",
    "Пороговое значение alpha примем равным 0.05"
   ]
  },
  {
   "cell_type": "code",
   "execution_count": 52,
   "metadata": {},
   "outputs": [
    {
     "data": {
      "text/plain": [
       "985"
      ]
     },
     "metadata": {},
     "output_type": "display_data"
    },
    {
     "data": {
      "text/plain": [
       "2229"
      ]
     },
     "metadata": {},
     "output_type": "display_data"
    }
   ],
   "source": [
    "display(revenue_users_ultra['month_revenue'].count())\n",
    "display(revenue_users_smart['month_revenue'].count())"
   ]
  },
  {
   "cell_type": "code",
   "execution_count": 53,
   "metadata": {},
   "outputs": [
    {
     "name": "stdout",
     "output_type": "stream",
     "text": [
      "p-значение: 4.2606313931076085e-250\n",
      "Отвергаем нулевую гипотезу\n"
     ]
    }
   ],
   "source": [
    "from scipy import stats as st\n",
    "import numpy as np\n",
    "alpha = .05 # критический уровень статистической значимости\n",
    "# если p-value окажется меньше него - отвергнем гипотезу\n",
    "#Так как размеры выборок не равны и скорее всего дисперсия для разных тарифов отличается параметр equal_var укажем как False\n",
    "revenue_ultra = revenue_users_ultra['month_revenue']\n",
    "revenue_smart = revenue_users_smart['month_revenue']\n",
    "results = st.ttest_ind(revenue_ultra, revenue_smart,equal_var = False)\n",
    "\n",
    "print('p-значение:', results.pvalue)\n",
    "\n",
    "if results.pvalue < alpha:\n",
    "    print(\"Отвергаем нулевую гипотезу\")\n",
    "else:\n",
    "    print(\"Не получилось отвергнуть нулевую гипотезу\") "
   ]
  },
  {
   "cell_type": "markdown",
   "metadata": {},
   "source": [
    "Следовательно, по выборке можно сделать вывод, что средняя выручка пользователей двух тарифов действительно различается."
   ]
  },
  {
   "cell_type": "markdown",
   "metadata": {},
   "source": [
    "Перейдем ко второй гипотезе. Нам нужно проверить, что средняя выручка пользователей из Москвы отличается от выручки пользователей из других регионов. Нулевая гипотеза: средняя выручка пользователей пользователей из Москвы и других регионов равна. Альтернативная гипотеза: средняя выручка пользователей из Москвы и других регионов не равна. Сначала нам нужно добавить столбец с характеристикой региона: \"Москва\", \"Другой регион\"."
   ]
  },
  {
   "cell_type": "code",
   "execution_count": 54,
   "metadata": {},
   "outputs": [],
   "source": [
    "revenue_users['region'] = revenue_users['city'].where(revenue_users['city'] == 'Москва','Другой') "
   ]
  },
  {
   "cell_type": "code",
   "execution_count": 55,
   "metadata": {},
   "outputs": [
    {
     "data": {
      "text/html": [
       "<div>\n",
       "<style scoped>\n",
       "    .dataframe tbody tr th:only-of-type {\n",
       "        vertical-align: middle;\n",
       "    }\n",
       "\n",
       "    .dataframe tbody tr th {\n",
       "        vertical-align: top;\n",
       "    }\n",
       "\n",
       "    .dataframe thead th {\n",
       "        text-align: right;\n",
       "    }\n",
       "</style>\n",
       "<table border=\"1\" class=\"dataframe\">\n",
       "  <thead>\n",
       "    <tr style=\"text-align: right;\">\n",
       "      <th></th>\n",
       "      <th>user_id</th>\n",
       "      <th>month</th>\n",
       "      <th>month_calls_duration</th>\n",
       "      <th>month_calls_qty</th>\n",
       "      <th>month_messages</th>\n",
       "      <th>month_internet</th>\n",
       "      <th>age</th>\n",
       "      <th>churn_date</th>\n",
       "      <th>city</th>\n",
       "      <th>first_name</th>\n",
       "      <th>...</th>\n",
       "      <th>rub_monthly_fee</th>\n",
       "      <th>rub_per_gb</th>\n",
       "      <th>rub_per_message</th>\n",
       "      <th>rub_per_minute</th>\n",
       "      <th>tariff_name</th>\n",
       "      <th>over_minutes</th>\n",
       "      <th>over_messages</th>\n",
       "      <th>over_internet_gb</th>\n",
       "      <th>month_revenue</th>\n",
       "      <th>region</th>\n",
       "    </tr>\n",
       "  </thead>\n",
       "  <tbody>\n",
       "    <tr>\n",
       "      <th>0</th>\n",
       "      <td>1000</td>\n",
       "      <td>5</td>\n",
       "      <td>159.0</td>\n",
       "      <td>22.0</td>\n",
       "      <td>22.0</td>\n",
       "      <td>2253.49</td>\n",
       "      <td>52</td>\n",
       "      <td>NaT</td>\n",
       "      <td>Краснодар</td>\n",
       "      <td>Рафаил</td>\n",
       "      <td>...</td>\n",
       "      <td>1950</td>\n",
       "      <td>150</td>\n",
       "      <td>1</td>\n",
       "      <td>1</td>\n",
       "      <td>ultra</td>\n",
       "      <td>0.0</td>\n",
       "      <td>0.0</td>\n",
       "      <td>0</td>\n",
       "      <td>1950.0</td>\n",
       "      <td>Другой</td>\n",
       "    </tr>\n",
       "    <tr>\n",
       "      <th>1</th>\n",
       "      <td>1000</td>\n",
       "      <td>6</td>\n",
       "      <td>172.0</td>\n",
       "      <td>43.0</td>\n",
       "      <td>60.0</td>\n",
       "      <td>23233.77</td>\n",
       "      <td>52</td>\n",
       "      <td>NaT</td>\n",
       "      <td>Краснодар</td>\n",
       "      <td>Рафаил</td>\n",
       "      <td>...</td>\n",
       "      <td>1950</td>\n",
       "      <td>150</td>\n",
       "      <td>1</td>\n",
       "      <td>1</td>\n",
       "      <td>ultra</td>\n",
       "      <td>0.0</td>\n",
       "      <td>0.0</td>\n",
       "      <td>0</td>\n",
       "      <td>1950.0</td>\n",
       "      <td>Другой</td>\n",
       "    </tr>\n",
       "    <tr>\n",
       "      <th>2</th>\n",
       "      <td>1000</td>\n",
       "      <td>7</td>\n",
       "      <td>340.0</td>\n",
       "      <td>47.0</td>\n",
       "      <td>75.0</td>\n",
       "      <td>14003.64</td>\n",
       "      <td>52</td>\n",
       "      <td>NaT</td>\n",
       "      <td>Краснодар</td>\n",
       "      <td>Рафаил</td>\n",
       "      <td>...</td>\n",
       "      <td>1950</td>\n",
       "      <td>150</td>\n",
       "      <td>1</td>\n",
       "      <td>1</td>\n",
       "      <td>ultra</td>\n",
       "      <td>0.0</td>\n",
       "      <td>0.0</td>\n",
       "      <td>0</td>\n",
       "      <td>1950.0</td>\n",
       "      <td>Другой</td>\n",
       "    </tr>\n",
       "    <tr>\n",
       "      <th>3</th>\n",
       "      <td>1000</td>\n",
       "      <td>8</td>\n",
       "      <td>408.0</td>\n",
       "      <td>52.0</td>\n",
       "      <td>81.0</td>\n",
       "      <td>14055.93</td>\n",
       "      <td>52</td>\n",
       "      <td>NaT</td>\n",
       "      <td>Краснодар</td>\n",
       "      <td>Рафаил</td>\n",
       "      <td>...</td>\n",
       "      <td>1950</td>\n",
       "      <td>150</td>\n",
       "      <td>1</td>\n",
       "      <td>1</td>\n",
       "      <td>ultra</td>\n",
       "      <td>0.0</td>\n",
       "      <td>0.0</td>\n",
       "      <td>0</td>\n",
       "      <td>1950.0</td>\n",
       "      <td>Другой</td>\n",
       "    </tr>\n",
       "    <tr>\n",
       "      <th>4</th>\n",
       "      <td>1000</td>\n",
       "      <td>9</td>\n",
       "      <td>466.0</td>\n",
       "      <td>58.0</td>\n",
       "      <td>57.0</td>\n",
       "      <td>14568.91</td>\n",
       "      <td>52</td>\n",
       "      <td>NaT</td>\n",
       "      <td>Краснодар</td>\n",
       "      <td>Рафаил</td>\n",
       "      <td>...</td>\n",
       "      <td>1950</td>\n",
       "      <td>150</td>\n",
       "      <td>1</td>\n",
       "      <td>1</td>\n",
       "      <td>ultra</td>\n",
       "      <td>0.0</td>\n",
       "      <td>0.0</td>\n",
       "      <td>0</td>\n",
       "      <td>1950.0</td>\n",
       "      <td>Другой</td>\n",
       "    </tr>\n",
       "  </tbody>\n",
       "</table>\n",
       "<p>5 rows × 26 columns</p>\n",
       "</div>"
      ],
      "text/plain": [
       "   user_id  month  month_calls_duration  month_calls_qty  month_messages  \\\n",
       "0     1000      5                 159.0             22.0            22.0   \n",
       "1     1000      6                 172.0             43.0            60.0   \n",
       "2     1000      7                 340.0             47.0            75.0   \n",
       "3     1000      8                 408.0             52.0            81.0   \n",
       "4     1000      9                 466.0             58.0            57.0   \n",
       "\n",
       "   month_internet  age churn_date       city first_name  ... rub_monthly_fee  \\\n",
       "0         2253.49   52        NaT  Краснодар     Рафаил  ...            1950   \n",
       "1        23233.77   52        NaT  Краснодар     Рафаил  ...            1950   \n",
       "2        14003.64   52        NaT  Краснодар     Рафаил  ...            1950   \n",
       "3        14055.93   52        NaT  Краснодар     Рафаил  ...            1950   \n",
       "4        14568.91   52        NaT  Краснодар     Рафаил  ...            1950   \n",
       "\n",
       "  rub_per_gb rub_per_message  rub_per_minute  tariff_name  over_minutes  \\\n",
       "0        150               1               1        ultra           0.0   \n",
       "1        150               1               1        ultra           0.0   \n",
       "2        150               1               1        ultra           0.0   \n",
       "3        150               1               1        ultra           0.0   \n",
       "4        150               1               1        ultra           0.0   \n",
       "\n",
       "   over_messages  over_internet_gb  month_revenue  region  \n",
       "0            0.0                 0         1950.0  Другой  \n",
       "1            0.0                 0         1950.0  Другой  \n",
       "2            0.0                 0         1950.0  Другой  \n",
       "3            0.0                 0         1950.0  Другой  \n",
       "4            0.0                 0         1950.0  Другой  \n",
       "\n",
       "[5 rows x 26 columns]"
      ]
     },
     "execution_count": 55,
     "metadata": {},
     "output_type": "execute_result"
    }
   ],
   "source": [
    "revenue_users.head()"
   ]
  },
  {
   "cell_type": "code",
   "execution_count": 56,
   "metadata": {},
   "outputs": [
    {
     "data": {
      "text/plain": [
       "611"
      ]
     },
     "metadata": {},
     "output_type": "display_data"
    },
    {
     "data": {
      "text/plain": [
       "2603"
      ]
     },
     "metadata": {},
     "output_type": "display_data"
    }
   ],
   "source": [
    "revenue_users_msk = revenue_users.query('region == \"Москва\"') #сформируем выборки по признаку региона и проверим их размер\n",
    "revenue_users_other = revenue_users.query('region == \"Другой\"')\n",
    "display(revenue_users_msk['month_revenue'].count())\n",
    "display(revenue_users_other['month_revenue'].count())"
   ]
  },
  {
   "cell_type": "code",
   "execution_count": 57,
   "metadata": {},
   "outputs": [
    {
     "data": {
      "text/plain": [
       "1546.7135842880523"
      ]
     },
     "metadata": {},
     "output_type": "display_data"
    },
    {
     "data": {
      "text/plain": [
       "1524.9362274298885"
      ]
     },
     "metadata": {},
     "output_type": "display_data"
    }
   ],
   "source": [
    "#посмотрим также средние значения выборок\n",
    "display(revenue_users_msk['month_revenue'].mean())\n",
    "display(revenue_users_other['month_revenue'].mean())"
   ]
  },
  {
   "cell_type": "code",
   "execution_count": 58,
   "metadata": {},
   "outputs": [
    {
     "name": "stdout",
     "output_type": "stream",
     "text": [
      "p-значение: 0.5257376663729298\n",
      "Не получилось отвергнуть нулевую гипотезу\n"
     ]
    }
   ],
   "source": [
    "alpha = .05 # критический уровень статистической значимости\n",
    "# если p-value окажется меньше него - отвергнем гипотезу\n",
    "#Так как размеры выборок не равны и скорее всего дисперсия для разных тарифов отличается параметр equal_var укажем как False\n",
    "revenue_msk = revenue_users_msk['month_revenue']\n",
    "revenue_other = revenue_users_other['month_revenue']\n",
    "results = st.ttest_ind(revenue_msk, revenue_other,equal_var = False)\n",
    "\n",
    "print('p-значение:', results.pvalue)\n",
    "\n",
    "if results.pvalue < alpha:\n",
    "    print(\"Отвергаем нулевую гипотезу\")\n",
    "else:\n",
    "    print(\"Не получилось отвергнуть нулевую гипотезу\") "
   ]
  },
  {
   "cell_type": "markdown",
   "metadata": {},
   "source": [
    "Следовательно, по выборке нельзя сделать вывод, что средняя выручка пользователей из Москвы отличается от выручки пользователей из других регионов."
   ]
  },
  {
   "cell_type": "markdown",
   "metadata": {},
   "source": [
    "## Общий вывод"
   ]
  },
  {
   "cell_type": "markdown",
   "metadata": {},
   "source": [
    "В ходе данного исследования была проведена предобработка данных:\n",
    "* проверка на аномалии и исправления,\n",
    "* изменение типов данных\n",
    "* добавление нужной информации.\n",
    "\n",
    "Далее было описано поведение клиентов оператора, рассчитана помесячная выручка с каждого клиента. Посчитано среднее количество, дисперсию и стандартное отклонение использованных минут, сообщений и мегабайт траффика. Наконец, были проверены гипотезы о том что\n",
    "* средняя выручка пользователей тарифов «Ультра» и «Смарт» различаются;\n",
    "* средняя выручка пользователей из Москвы отличается от выручки пользователей из других регионов.\n",
    "\n",
    "Первая гипотеза подтвердилась, вторая нет.\n",
    "Таким образом, более выгодным для оператора на основании проведенного исследования выборки является тариф \"Ультра\"."
   ]
  }
 ],
 "metadata": {
  "ExecuteTimeLog": [
   {
    "duration": 47,
    "start_time": "2022-05-28T11:07:46.064Z"
   },
   {
    "duration": 651,
    "start_time": "2022-05-28T12:01:43.889Z"
   },
   {
    "duration": 22,
    "start_time": "2022-05-28T12:01:54.783Z"
   },
   {
    "duration": 726,
    "start_time": "2022-05-28T12:02:14.318Z"
   },
   {
    "duration": 208,
    "start_time": "2022-05-28T12:06:02.312Z"
   },
   {
    "duration": 93,
    "start_time": "2022-05-28T12:07:28.303Z"
   },
   {
    "duration": 164,
    "start_time": "2022-05-28T12:08:08.382Z"
   },
   {
    "duration": 458,
    "start_time": "2022-05-28T12:09:41.787Z"
   },
   {
    "duration": 62,
    "start_time": "2022-05-28T12:10:57.010Z"
   },
   {
    "duration": 44,
    "start_time": "2022-05-28T12:25:10.327Z"
   },
   {
    "duration": 15,
    "start_time": "2022-05-28T12:25:55.130Z"
   },
   {
    "duration": 25,
    "start_time": "2022-05-28T12:26:25.269Z"
   },
   {
    "duration": 20,
    "start_time": "2022-05-28T12:26:49.335Z"
   },
   {
    "duration": 11,
    "start_time": "2022-05-28T12:27:44.024Z"
   },
   {
    "duration": 66,
    "start_time": "2022-05-28T12:38:18.098Z"
   },
   {
    "duration": 55,
    "start_time": "2022-05-28T12:39:15.266Z"
   },
   {
    "duration": 24,
    "start_time": "2022-05-28T12:39:26.724Z"
   },
   {
    "duration": 648,
    "start_time": "2022-06-01T04:37:24.227Z"
   },
   {
    "duration": 22,
    "start_time": "2022-06-01T04:37:24.877Z"
   },
   {
    "duration": 64,
    "start_time": "2022-06-01T04:37:24.900Z"
   },
   {
    "duration": 8,
    "start_time": "2022-06-01T04:37:24.965Z"
   },
   {
    "duration": 251,
    "start_time": "2022-06-01T04:37:24.975Z"
   },
   {
    "duration": 16,
    "start_time": "2022-06-01T04:37:25.228Z"
   },
   {
    "duration": 328,
    "start_time": "2022-06-01T04:37:25.245Z"
   },
   {
    "duration": 17,
    "start_time": "2022-06-01T04:37:25.574Z"
   },
   {
    "duration": 58,
    "start_time": "2022-06-01T04:37:25.592Z"
   },
   {
    "duration": 9,
    "start_time": "2022-06-01T04:37:25.651Z"
   },
   {
    "duration": 37,
    "start_time": "2022-06-01T04:37:25.661Z"
   },
   {
    "duration": 20,
    "start_time": "2022-06-01T04:37:25.699Z"
   },
   {
    "duration": 16,
    "start_time": "2022-06-01T04:37:25.720Z"
   },
   {
    "duration": 12,
    "start_time": "2022-06-01T04:37:25.739Z"
   },
   {
    "duration": 24,
    "start_time": "2022-06-01T04:37:25.752Z"
   },
   {
    "duration": 35,
    "start_time": "2022-06-01T04:37:25.777Z"
   },
   {
    "duration": 7,
    "start_time": "2022-06-01T04:37:25.813Z"
   },
   {
    "duration": 72,
    "start_time": "2022-06-01T04:37:25.821Z"
   },
   {
    "duration": 5,
    "start_time": "2022-06-01T04:37:25.894Z"
   },
   {
    "duration": 9,
    "start_time": "2022-06-01T04:37:25.901Z"
   },
   {
    "duration": 8,
    "start_time": "2022-06-01T04:37:25.911Z"
   },
   {
    "duration": 12,
    "start_time": "2022-06-01T04:37:25.921Z"
   },
   {
    "duration": 6,
    "start_time": "2022-06-01T04:37:25.934Z"
   },
   {
    "duration": 6,
    "start_time": "2022-06-01T04:37:25.941Z"
   },
   {
    "duration": 5,
    "start_time": "2022-06-01T04:37:25.975Z"
   },
   {
    "duration": 10,
    "start_time": "2022-06-01T04:37:25.981Z"
   },
   {
    "duration": 4,
    "start_time": "2022-06-01T04:37:25.992Z"
   },
   {
    "duration": 19,
    "start_time": "2022-06-01T04:37:25.998Z"
   },
   {
    "duration": 7,
    "start_time": "2022-06-01T04:37:26.018Z"
   },
   {
    "duration": 17,
    "start_time": "2022-06-01T04:37:26.026Z"
   },
   {
    "duration": 40,
    "start_time": "2022-06-01T04:37:26.045Z"
   },
   {
    "duration": 14,
    "start_time": "2022-06-01T04:37:26.087Z"
   },
   {
    "duration": 10,
    "start_time": "2022-06-01T04:37:26.102Z"
   },
   {
    "duration": 11,
    "start_time": "2022-06-01T04:37:26.113Z"
   },
   {
    "duration": 7,
    "start_time": "2022-06-01T04:37:26.125Z"
   },
   {
    "duration": 44,
    "start_time": "2022-06-01T04:37:26.133Z"
   },
   {
    "duration": 7,
    "start_time": "2022-06-01T04:37:26.178Z"
   },
   {
    "duration": 23,
    "start_time": "2022-06-01T04:37:26.186Z"
   },
   {
    "duration": 11,
    "start_time": "2022-06-01T04:37:26.210Z"
   },
   {
    "duration": 20,
    "start_time": "2022-06-01T04:37:26.222Z"
   },
   {
    "duration": 5,
    "start_time": "2022-06-01T04:37:26.245Z"
   },
   {
    "duration": 26,
    "start_time": "2022-06-01T04:37:26.252Z"
   },
   {
    "duration": 20,
    "start_time": "2022-06-01T04:37:26.280Z"
   },
   {
    "duration": 9,
    "start_time": "2022-06-01T04:37:26.302Z"
   },
   {
    "duration": 11,
    "start_time": "2022-06-01T04:37:26.313Z"
   },
   {
    "duration": 1290,
    "start_time": "2022-06-01T04:37:26.325Z"
   },
   {
    "duration": 5,
    "start_time": "2022-06-01T04:37:27.617Z"
   },
   {
    "duration": 437,
    "start_time": "2022-06-01T04:37:27.623Z"
   },
   {
    "duration": 4,
    "start_time": "2022-06-01T04:37:28.061Z"
   },
   {
    "duration": 23,
    "start_time": "2022-06-01T04:37:28.066Z"
   },
   {
    "duration": 10,
    "start_time": "2022-06-01T04:37:28.090Z"
   },
   {
    "duration": 4,
    "start_time": "2022-06-01T04:37:28.102Z"
   },
   {
    "duration": 4,
    "start_time": "2022-06-01T04:37:28.107Z"
   },
   {
    "duration": 23,
    "start_time": "2022-06-01T04:45:56.913Z"
   },
   {
    "duration": 83,
    "start_time": "2022-06-01T04:46:20.613Z"
   },
   {
    "duration": 36,
    "start_time": "2022-06-01T18:30:40.279Z"
   },
   {
    "duration": 23,
    "start_time": "2022-06-01T18:31:02.423Z"
   },
   {
    "duration": 841,
    "start_time": "2022-06-01T18:31:13.490Z"
   },
   {
    "duration": 0,
    "start_time": "2022-06-01T18:31:14.334Z"
   },
   {
    "duration": 0,
    "start_time": "2022-06-01T18:31:14.336Z"
   },
   {
    "duration": 0,
    "start_time": "2022-06-01T18:31:14.337Z"
   },
   {
    "duration": 0,
    "start_time": "2022-06-01T18:31:14.345Z"
   },
   {
    "duration": 0,
    "start_time": "2022-06-01T18:31:14.347Z"
   },
   {
    "duration": 0,
    "start_time": "2022-06-01T18:31:14.348Z"
   },
   {
    "duration": 0,
    "start_time": "2022-06-01T18:31:14.349Z"
   },
   {
    "duration": 0,
    "start_time": "2022-06-01T18:31:14.350Z"
   },
   {
    "duration": 0,
    "start_time": "2022-06-01T18:31:14.352Z"
   },
   {
    "duration": 0,
    "start_time": "2022-06-01T18:31:14.353Z"
   },
   {
    "duration": 0,
    "start_time": "2022-06-01T18:31:14.354Z"
   },
   {
    "duration": 0,
    "start_time": "2022-06-01T18:31:14.356Z"
   },
   {
    "duration": 0,
    "start_time": "2022-06-01T18:31:14.357Z"
   },
   {
    "duration": 0,
    "start_time": "2022-06-01T18:31:14.359Z"
   },
   {
    "duration": 0,
    "start_time": "2022-06-01T18:31:14.360Z"
   },
   {
    "duration": 0,
    "start_time": "2022-06-01T18:31:14.361Z"
   },
   {
    "duration": 0,
    "start_time": "2022-06-01T18:31:14.363Z"
   },
   {
    "duration": 0,
    "start_time": "2022-06-01T18:31:14.364Z"
   },
   {
    "duration": 0,
    "start_time": "2022-06-01T18:31:14.366Z"
   },
   {
    "duration": 0,
    "start_time": "2022-06-01T18:31:14.367Z"
   },
   {
    "duration": 0,
    "start_time": "2022-06-01T18:31:14.369Z"
   },
   {
    "duration": 0,
    "start_time": "2022-06-01T18:31:14.371Z"
   },
   {
    "duration": 0,
    "start_time": "2022-06-01T18:31:14.372Z"
   },
   {
    "duration": 0,
    "start_time": "2022-06-01T18:31:14.373Z"
   },
   {
    "duration": 0,
    "start_time": "2022-06-01T18:31:14.375Z"
   },
   {
    "duration": 0,
    "start_time": "2022-06-01T18:31:14.376Z"
   },
   {
    "duration": 22,
    "start_time": "2022-06-01T18:32:47.063Z"
   },
   {
    "duration": 10,
    "start_time": "2022-06-01T18:33:12.501Z"
   },
   {
    "duration": 26,
    "start_time": "2022-06-01T18:33:21.952Z"
   },
   {
    "duration": 0,
    "start_time": "2022-06-01T18:33:21.980Z"
   },
   {
    "duration": 0,
    "start_time": "2022-06-01T18:33:21.981Z"
   },
   {
    "duration": 0,
    "start_time": "2022-06-01T18:33:21.983Z"
   },
   {
    "duration": 0,
    "start_time": "2022-06-01T18:33:21.984Z"
   },
   {
    "duration": 0,
    "start_time": "2022-06-01T18:33:21.985Z"
   },
   {
    "duration": 0,
    "start_time": "2022-06-01T18:33:21.986Z"
   },
   {
    "duration": 0,
    "start_time": "2022-06-01T18:33:21.988Z"
   },
   {
    "duration": 0,
    "start_time": "2022-06-01T18:33:21.990Z"
   },
   {
    "duration": 0,
    "start_time": "2022-06-01T18:33:21.991Z"
   },
   {
    "duration": 0,
    "start_time": "2022-06-01T18:33:21.993Z"
   },
   {
    "duration": 0,
    "start_time": "2022-06-01T18:33:21.993Z"
   },
   {
    "duration": 0,
    "start_time": "2022-06-01T18:33:21.995Z"
   },
   {
    "duration": 9,
    "start_time": "2022-06-01T18:33:21.997Z"
   },
   {
    "duration": 0,
    "start_time": "2022-06-01T18:33:22.009Z"
   },
   {
    "duration": 0,
    "start_time": "2022-06-01T18:33:22.045Z"
   },
   {
    "duration": 0,
    "start_time": "2022-06-01T18:33:22.047Z"
   },
   {
    "duration": 0,
    "start_time": "2022-06-01T18:33:22.048Z"
   },
   {
    "duration": 0,
    "start_time": "2022-06-01T18:33:22.050Z"
   },
   {
    "duration": 0,
    "start_time": "2022-06-01T18:33:22.051Z"
   },
   {
    "duration": 0,
    "start_time": "2022-06-01T18:33:22.052Z"
   },
   {
    "duration": 0,
    "start_time": "2022-06-01T18:33:22.054Z"
   },
   {
    "duration": 0,
    "start_time": "2022-06-01T18:33:22.056Z"
   },
   {
    "duration": 0,
    "start_time": "2022-06-01T18:33:22.057Z"
   },
   {
    "duration": 0,
    "start_time": "2022-06-01T18:33:22.058Z"
   },
   {
    "duration": 0,
    "start_time": "2022-06-01T18:33:22.059Z"
   },
   {
    "duration": 0,
    "start_time": "2022-06-01T18:33:22.060Z"
   },
   {
    "duration": 8,
    "start_time": "2022-06-01T18:33:28.692Z"
   },
   {
    "duration": 278,
    "start_time": "2022-06-01T18:34:56.256Z"
   },
   {
    "duration": 42,
    "start_time": "2022-06-01T18:34:56.537Z"
   },
   {
    "duration": 78,
    "start_time": "2022-06-01T18:34:56.581Z"
   },
   {
    "duration": 12,
    "start_time": "2022-06-01T18:34:56.662Z"
   },
   {
    "duration": 349,
    "start_time": "2022-06-01T18:34:56.676Z"
   },
   {
    "duration": 29,
    "start_time": "2022-06-01T18:34:57.028Z"
   },
   {
    "duration": 353,
    "start_time": "2022-06-01T18:34:57.059Z"
   },
   {
    "duration": 22,
    "start_time": "2022-06-01T18:34:57.413Z"
   },
   {
    "duration": 86,
    "start_time": "2022-06-01T18:34:57.437Z"
   },
   {
    "duration": 11,
    "start_time": "2022-06-01T18:34:57.526Z"
   },
   {
    "duration": 49,
    "start_time": "2022-06-01T18:34:57.538Z"
   },
   {
    "duration": 24,
    "start_time": "2022-06-01T18:34:57.588Z"
   },
   {
    "duration": 43,
    "start_time": "2022-06-01T18:34:57.614Z"
   },
   {
    "duration": 147,
    "start_time": "2022-06-01T18:34:57.659Z"
   },
   {
    "duration": 6,
    "start_time": "2022-06-01T18:34:57.808Z"
   },
   {
    "duration": 39,
    "start_time": "2022-06-01T18:34:57.816Z"
   },
   {
    "duration": 6,
    "start_time": "2022-06-01T18:34:57.857Z"
   },
   {
    "duration": 73,
    "start_time": "2022-06-01T18:34:57.864Z"
   },
   {
    "duration": 10,
    "start_time": "2022-06-01T18:34:57.939Z"
   },
   {
    "duration": 18,
    "start_time": "2022-06-01T18:34:57.951Z"
   },
   {
    "duration": 12,
    "start_time": "2022-06-01T18:34:57.971Z"
   },
   {
    "duration": 30,
    "start_time": "2022-06-01T18:34:57.985Z"
   },
   {
    "duration": 28,
    "start_time": "2022-06-01T18:34:58.017Z"
   },
   {
    "duration": 6,
    "start_time": "2022-06-01T18:34:58.047Z"
   },
   {
    "duration": 11,
    "start_time": "2022-06-01T18:34:58.055Z"
   },
   {
    "duration": 16,
    "start_time": "2022-06-01T18:34:58.068Z"
   },
   {
    "duration": 16,
    "start_time": "2022-06-01T18:34:58.086Z"
   },
   {
    "duration": 116,
    "start_time": "2022-06-01T18:35:02.655Z"
   },
   {
    "duration": 203,
    "start_time": "2022-06-01T18:36:26.967Z"
   },
   {
    "duration": 16,
    "start_time": "2022-06-01T18:37:45.877Z"
   },
   {
    "duration": 22,
    "start_time": "2022-06-01T18:37:49.281Z"
   },
   {
    "duration": 8,
    "start_time": "2022-06-01T18:37:51.223Z"
   },
   {
    "duration": 22,
    "start_time": "2022-06-01T18:38:00.966Z"
   },
   {
    "duration": 19,
    "start_time": "2022-06-01T18:38:05.947Z"
   },
   {
    "duration": 18,
    "start_time": "2022-06-01T18:38:21.747Z"
   },
   {
    "duration": 17,
    "start_time": "2022-06-01T18:38:23.860Z"
   },
   {
    "duration": 14,
    "start_time": "2022-06-01T18:38:26.169Z"
   },
   {
    "duration": 7,
    "start_time": "2022-06-01T18:38:51.426Z"
   },
   {
    "duration": 22,
    "start_time": "2022-06-01T18:38:53.441Z"
   },
   {
    "duration": 9,
    "start_time": "2022-06-01T18:38:55.777Z"
   },
   {
    "duration": 36,
    "start_time": "2022-06-01T18:38:57.314Z"
   },
   {
    "duration": 8,
    "start_time": "2022-06-01T18:39:00.179Z"
   },
   {
    "duration": 32,
    "start_time": "2022-06-01T18:39:01.972Z"
   },
   {
    "duration": 7,
    "start_time": "2022-06-01T18:39:04.359Z"
   },
   {
    "duration": 8,
    "start_time": "2022-06-01T18:39:06.362Z"
   },
   {
    "duration": 36,
    "start_time": "2022-06-01T18:39:08.899Z"
   },
   {
    "duration": 25,
    "start_time": "2022-06-02T19:28:11.310Z"
   },
   {
    "duration": 1029,
    "start_time": "2022-06-02T19:30:48.510Z"
   },
   {
    "duration": 46,
    "start_time": "2022-06-02T19:30:49.541Z"
   },
   {
    "duration": 93,
    "start_time": "2022-06-02T19:30:49.589Z"
   },
   {
    "duration": 13,
    "start_time": "2022-06-02T19:30:49.685Z"
   },
   {
    "duration": 326,
    "start_time": "2022-06-02T19:30:49.700Z"
   },
   {
    "duration": 28,
    "start_time": "2022-06-02T19:30:50.028Z"
   },
   {
    "duration": 383,
    "start_time": "2022-06-02T19:30:50.058Z"
   },
   {
    "duration": 26,
    "start_time": "2022-06-02T19:30:50.443Z"
   },
   {
    "duration": 83,
    "start_time": "2022-06-02T19:30:50.471Z"
   },
   {
    "duration": 10,
    "start_time": "2022-06-02T19:30:50.557Z"
   },
   {
    "duration": 72,
    "start_time": "2022-06-02T19:30:50.569Z"
   },
   {
    "duration": 27,
    "start_time": "2022-06-02T19:30:50.645Z"
   },
   {
    "duration": 28,
    "start_time": "2022-06-02T19:30:50.674Z"
   },
   {
    "duration": 25,
    "start_time": "2022-06-02T19:30:50.704Z"
   },
   {
    "duration": 15,
    "start_time": "2022-06-02T19:30:50.743Z"
   },
   {
    "duration": 50,
    "start_time": "2022-06-02T19:30:50.760Z"
   },
   {
    "duration": 7,
    "start_time": "2022-06-02T19:30:50.812Z"
   },
   {
    "duration": 59,
    "start_time": "2022-06-02T19:30:50.820Z"
   },
   {
    "duration": 6,
    "start_time": "2022-06-02T19:30:50.880Z"
   },
   {
    "duration": 20,
    "start_time": "2022-06-02T19:30:50.887Z"
   },
   {
    "duration": 38,
    "start_time": "2022-06-02T19:30:50.908Z"
   },
   {
    "duration": 21,
    "start_time": "2022-06-02T19:30:50.948Z"
   },
   {
    "duration": 8,
    "start_time": "2022-06-02T19:30:50.971Z"
   },
   {
    "duration": 9,
    "start_time": "2022-06-02T19:30:50.981Z"
   },
   {
    "duration": 26,
    "start_time": "2022-06-02T19:30:50.992Z"
   },
   {
    "duration": 25,
    "start_time": "2022-06-02T19:30:51.020Z"
   },
   {
    "duration": 11,
    "start_time": "2022-06-02T19:30:51.047Z"
   },
   {
    "duration": 198,
    "start_time": "2022-06-02T19:30:51.062Z"
   },
   {
    "duration": 22,
    "start_time": "2022-06-02T19:31:55.227Z"
   },
   {
    "duration": 15,
    "start_time": "2022-06-02T19:31:56.725Z"
   },
   {
    "duration": 30,
    "start_time": "2022-06-02T19:32:23.067Z"
   },
   {
    "duration": 23,
    "start_time": "2022-06-02T19:33:19.980Z"
   },
   {
    "duration": 31,
    "start_time": "2022-06-02T19:33:23.443Z"
   },
   {
    "duration": 16,
    "start_time": "2022-06-02T19:33:27.306Z"
   },
   {
    "duration": 15,
    "start_time": "2022-06-02T19:33:29.004Z"
   },
   {
    "duration": 21,
    "start_time": "2022-06-02T19:33:31.213Z"
   },
   {
    "duration": 8,
    "start_time": "2022-06-02T19:33:33.567Z"
   },
   {
    "duration": 20,
    "start_time": "2022-06-02T19:33:35.213Z"
   },
   {
    "duration": 13,
    "start_time": "2022-06-02T19:33:37.420Z"
   },
   {
    "duration": 34,
    "start_time": "2022-06-02T19:33:38.844Z"
   },
   {
    "duration": 8,
    "start_time": "2022-06-02T19:33:40.809Z"
   },
   {
    "duration": 34,
    "start_time": "2022-06-02T19:33:43.740Z"
   },
   {
    "duration": 6,
    "start_time": "2022-06-02T19:33:45.904Z"
   },
   {
    "duration": 6,
    "start_time": "2022-06-02T19:33:47.595Z"
   },
   {
    "duration": 39,
    "start_time": "2022-06-02T19:33:50.803Z"
   },
   {
    "duration": 12,
    "start_time": "2022-06-02T19:34:03.410Z"
   },
   {
    "duration": 18,
    "start_time": "2022-06-02T19:34:05.271Z"
   },
   {
    "duration": 1978,
    "start_time": "2022-06-02T19:34:08.662Z"
   },
   {
    "duration": 22,
    "start_time": "2022-06-02T19:34:38.813Z"
   },
   {
    "duration": 47,
    "start_time": "2022-06-02T19:35:38.018Z"
   },
   {
    "duration": 304,
    "start_time": "2022-06-02T19:37:18.242Z"
   },
   {
    "duration": 33,
    "start_time": "2022-06-02T19:41:50.069Z"
   },
   {
    "duration": 56,
    "start_time": "2022-06-02T19:42:01.309Z"
   },
   {
    "duration": 23,
    "start_time": "2022-06-02T19:42:08.176Z"
   },
   {
    "duration": 53,
    "start_time": "2022-06-02T19:42:35.442Z"
   },
   {
    "duration": 119,
    "start_time": "2022-06-02T19:42:49.871Z"
   },
   {
    "duration": 52,
    "start_time": "2022-06-02T19:43:03.411Z"
   },
   {
    "duration": 32,
    "start_time": "2022-06-02T19:43:08.169Z"
   },
   {
    "duration": 29,
    "start_time": "2022-06-02T19:43:11.839Z"
   },
   {
    "duration": 61,
    "start_time": "2022-06-02T20:05:41.169Z"
   },
   {
    "duration": 728,
    "start_time": "2022-06-02T20:05:44.464Z"
   },
   {
    "duration": 27,
    "start_time": "2022-06-02T20:05:45.194Z"
   },
   {
    "duration": 99,
    "start_time": "2022-06-02T20:05:45.223Z"
   },
   {
    "duration": 14,
    "start_time": "2022-06-02T20:05:45.324Z"
   },
   {
    "duration": 406,
    "start_time": "2022-06-02T20:05:45.341Z"
   },
   {
    "duration": 28,
    "start_time": "2022-06-02T20:05:45.749Z"
   },
   {
    "duration": 430,
    "start_time": "2022-06-02T20:05:45.778Z"
   },
   {
    "duration": 20,
    "start_time": "2022-06-02T20:05:46.210Z"
   },
   {
    "duration": 97,
    "start_time": "2022-06-02T20:05:46.232Z"
   },
   {
    "duration": 10,
    "start_time": "2022-06-02T20:05:46.332Z"
   },
   {
    "duration": 84,
    "start_time": "2022-06-02T20:05:46.344Z"
   },
   {
    "duration": 37,
    "start_time": "2022-06-02T20:05:46.430Z"
   },
   {
    "duration": 38,
    "start_time": "2022-06-02T20:05:46.469Z"
   },
   {
    "duration": 160,
    "start_time": "2022-06-02T20:05:46.510Z"
   },
   {
    "duration": 6,
    "start_time": "2022-06-02T20:05:46.672Z"
   },
   {
    "duration": 81,
    "start_time": "2022-06-02T20:05:46.679Z"
   },
   {
    "duration": 6,
    "start_time": "2022-06-02T20:05:46.762Z"
   },
   {
    "duration": 75,
    "start_time": "2022-06-02T20:05:46.770Z"
   },
   {
    "duration": 17,
    "start_time": "2022-06-02T20:05:46.846Z"
   },
   {
    "duration": 31,
    "start_time": "2022-06-02T20:05:46.864Z"
   },
   {
    "duration": 20,
    "start_time": "2022-06-02T20:05:46.897Z"
   },
   {
    "duration": 30,
    "start_time": "2022-06-02T20:05:46.919Z"
   },
   {
    "duration": 27,
    "start_time": "2022-06-02T20:05:46.954Z"
   },
   {
    "duration": 35,
    "start_time": "2022-06-02T20:05:46.983Z"
   },
   {
    "duration": 44,
    "start_time": "2022-06-02T20:05:47.020Z"
   },
   {
    "duration": 31,
    "start_time": "2022-06-02T20:05:47.065Z"
   },
   {
    "duration": 27,
    "start_time": "2022-06-02T20:05:47.098Z"
   },
   {
    "duration": 238,
    "start_time": "2022-06-02T20:05:47.126Z"
   },
   {
    "duration": 19,
    "start_time": "2022-06-02T20:05:47.366Z"
   },
   {
    "duration": 8,
    "start_time": "2022-06-02T20:05:47.386Z"
   },
   {
    "duration": 29,
    "start_time": "2022-06-02T20:05:47.395Z"
   },
   {
    "duration": 33,
    "start_time": "2022-06-02T20:05:47.425Z"
   },
   {
    "duration": 14,
    "start_time": "2022-06-02T20:05:47.459Z"
   },
   {
    "duration": 14,
    "start_time": "2022-06-02T20:05:47.475Z"
   },
   {
    "duration": 13,
    "start_time": "2022-06-02T20:05:47.491Z"
   },
   {
    "duration": 7,
    "start_time": "2022-06-02T20:05:47.506Z"
   },
   {
    "duration": 51,
    "start_time": "2022-06-02T20:05:47.514Z"
   },
   {
    "duration": 6,
    "start_time": "2022-06-02T20:05:47.568Z"
   },
   {
    "duration": 20,
    "start_time": "2022-06-02T20:05:47.576Z"
   },
   {
    "duration": 11,
    "start_time": "2022-06-02T20:05:47.598Z"
   },
   {
    "duration": 42,
    "start_time": "2022-06-02T20:05:47.612Z"
   },
   {
    "duration": 8,
    "start_time": "2022-06-02T20:05:47.658Z"
   },
   {
    "duration": 9,
    "start_time": "2022-06-02T20:05:47.667Z"
   },
   {
    "duration": 25,
    "start_time": "2022-06-02T20:05:47.677Z"
   },
   {
    "duration": 10,
    "start_time": "2022-06-02T20:05:47.704Z"
   },
   {
    "duration": 39,
    "start_time": "2022-06-02T20:05:47.716Z"
   },
   {
    "duration": 1645,
    "start_time": "2022-06-02T20:05:47.760Z"
   },
   {
    "duration": 12,
    "start_time": "2022-06-02T20:05:49.407Z"
   },
   {
    "duration": 311,
    "start_time": "2022-06-02T20:05:49.420Z"
   },
   {
    "duration": 21,
    "start_time": "2022-06-02T20:05:49.733Z"
   },
   {
    "duration": 15,
    "start_time": "2022-06-02T20:05:49.757Z"
   },
   {
    "duration": 410,
    "start_time": "2022-06-02T20:05:49.774Z"
   },
   {
    "duration": 6,
    "start_time": "2022-06-02T20:05:50.186Z"
   },
   {
    "duration": 25,
    "start_time": "2022-06-02T20:05:50.194Z"
   },
   {
    "duration": 32,
    "start_time": "2022-06-02T20:05:50.221Z"
   },
   {
    "duration": 6,
    "start_time": "2022-06-02T20:05:50.259Z"
   },
   {
    "duration": 12,
    "start_time": "2022-06-02T20:05:50.268Z"
   },
   {
    "duration": 59,
    "start_time": "2022-06-02T20:06:05.790Z"
   },
   {
    "duration": 401,
    "start_time": "2022-06-02T20:07:18.012Z"
   },
   {
    "duration": 117,
    "start_time": "2022-06-02T20:07:44.877Z"
   },
   {
    "duration": 4,
    "start_time": "2022-06-02T20:08:05.566Z"
   },
   {
    "duration": 113,
    "start_time": "2022-06-02T20:08:26.179Z"
   },
   {
    "duration": 69,
    "start_time": "2022-06-02T20:08:29.485Z"
   },
   {
    "duration": 53,
    "start_time": "2022-06-02T20:08:47.926Z"
   },
   {
    "duration": 42,
    "start_time": "2022-06-02T20:08:52.891Z"
   },
   {
    "duration": 32,
    "start_time": "2022-06-02T20:10:17.609Z"
   }
  ],
  "kernelspec": {
   "display_name": "Python 3 (ipykernel)",
   "language": "python",
   "name": "python3"
  },
  "language_info": {
   "codemirror_mode": {
    "name": "ipython",
    "version": 3
   },
   "file_extension": ".py",
   "mimetype": "text/x-python",
   "name": "python",
   "nbconvert_exporter": "python",
   "pygments_lexer": "ipython3",
   "version": "3.9.7"
  },
  "toc": {
   "base_numbering": 1,
   "nav_menu": {},
   "number_sections": true,
   "sideBar": true,
   "skip_h1_title": true,
   "title_cell": "Table of Contents",
   "title_sidebar": "Contents",
   "toc_cell": false,
   "toc_position": {},
   "toc_section_display": true,
   "toc_window_display": true
  }
 },
 "nbformat": 4,
 "nbformat_minor": 2
}
